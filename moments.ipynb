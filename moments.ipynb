{
 "cells": [
  {
   "cell_type": "markdown",
   "metadata": {},
   "source": [
    "## Mean\n",
    "\n",
    "### Arithmetic mean\n",
    "Given a bunch of real numbers $x_1, x_2, \\dots, x_N$, their *arithmetic mean* is defined as:\n",
    "\n",
    "\\begin{equation}\n",
    "\\bar{x}_A = \\frac{1}{N}\\sum_{i=1}^{N}x_i.\n",
    "\\end{equation}\n",
    "\n",
    "`numpy.mean` computes the arithmetic mean:"
   ]
  },
  {
   "cell_type": "code",
   "execution_count": 1,
   "metadata": {},
   "outputs": [],
   "source": [
    "from __future__ import division\n",
    "import numpy as np\n",
    "import scipy.stats as stats"
   ]
  },
  {
   "cell_type": "code",
   "execution_count": 2,
   "metadata": {},
   "outputs": [
    {
     "name": "stdout",
     "output_type": "stream",
     "text": [
      "Arithmetic mean: Numpy = -0.204016703602, Reproduced = -0.204016703602\n"
     ]
    }
   ],
   "source": [
    "# Make results reproducible\n",
    "np.random.seed(123)\n",
    "\n",
    "# Draw N samples from the standard normal distribution.\n",
    "N = 15\n",
    "s = np.random.normal(size=N)\n",
    "\n",
    "xbar_a = sum(s)/N\n",
    "print(\"Arithmetic mean: Numpy = {0}, Reproduced = {1}\".format(np.mean(s), xbar_a))"
   ]
  },
  {
   "cell_type": "markdown",
   "metadata": {},
   "source": [
    "### Geometric mean\n",
    "\n",
    "*Geometric mean* of a bunch of positive numbers $x_1, \\dots, x_N$ is defined as\n",
    "\n",
    "\\begin{equation}\n",
    "\\bar{x}_G = (x_1x_2\\dots x_N)^{1/N}\n",
    "\\end{equation}\n",
    "\n",
    "Taking the log of both sides:\n",
    "\n",
    "\\begin{equation}\n",
    "\\log{\\bar{x}_G} = \\frac{1}{N}\\sum_{i=1}^{N}\\log{x_i},\n",
    "\\end{equation}\n",
    "\n",
    "we see that $\\log{\\bar{x}_G}$ is the arithmetic mean of $\\log(x_1), \\dots, \\log(x_N)$.\n",
    "\n",
    "`scipy.stats.gmean` computes the geometric mean:"
   ]
  },
  {
   "cell_type": "code",
   "execution_count": 3,
   "metadata": {},
   "outputs": [
    {
     "name": "stdout",
     "output_type": "stream",
     "text": [
      "Geometric mean: Scipy = 1.34103894485, Reproduced = 1.34103894485\n"
     ]
    }
   ],
   "source": [
    "s_pos = np.random.lognormal(size=N)\n",
    "\n",
    "xbar_g = np.prod(s_pos)**(1/N)\n",
    "print(\"Geometric mean: Scipy = {0}, Reproduced = {1}\".format(stats.gmean(s_pos), xbar_g))"
   ]
  },
  {
   "cell_type": "markdown",
   "metadata": {},
   "source": [
    "Geometric mean is always less than or equal to the arithmetic mean. Let's show this for $N=2$:\n",
    "\n",
    "\\begin{align*}\n",
    "\\bar{x}_A^2 - \\bar{x}_G^2\n",
    "    &= \\left[\\frac{x_1 + x_2}{2}\\right]^2 - \\left[(x_1x_2)^{1/2}\\right]^2 \\\\\n",
    "    &= \\frac{x_1^2+x_2^2+2x_1x_2-4x_1x_2}{4} \\\\\n",
    "    &= \\frac{x_1^2+x_2^2-2x_1x_2}{4} \\\\\n",
    "    &= \\frac{(x_1 - x_2)^2}{4} \\\\\n",
    "    &\\ge 0,\n",
    "\\end{align*}\n",
    "\n",
    "which in turn implies $\\bar{x}_A \\ge \\bar{x}_G$ since by definition both $\\bar{x}_A$ and $\\bar{x}_A$ are non-negative. Note that the equality occurs when all observations are the same.\n",
    "\n",
    "This result also holds for $N>2$ and it has an interesting implication for stock returns. Suppose we are given daily returns $R_1, R_2, \\dots, R_T$ of a stock and asked what the \"average\" daily return is. It may seem natural to just report the arithmetic mean $R_A=(R_1+R_2+\\dots+R_T)/T$. Let's see what happens if we apply $R_A$ for $T$ consecutive days to the initial price $S_0$:\n",
    "\n",
    "\\begin{align*}\n",
    "(1+R_A)^NS_0\n",
    "    &= \\left[1 + \\frac{R_1+R_2+\\dots+R_T}{T}\\right]^TS_0 \\\\\n",
    "    &= \\left[\\frac{(1+R_1)+(1+R_2)+\\dots+(1+R_T)}{T}\\right]^T S_0 \\\\\n",
    "    &\\ge \\left[\\left[(1+R_1)(1+R_2)\\dots(1+R_T)\\right]^{1/T}\\right]^T S_0 \\\\\n",
    "    &= (1+R_1)(1+R_2)\\dots(1+R_T) S_0 \\\\\n",
    "    &= S_T,\n",
    "\\end{align*}\n",
    "\n",
    "where $S_T$ is the stock price on the last day. The inequality on the third line follows from the fact that the arithmetic mean of $1+R_1, \\dots, 1+R_T$ is always greater than or equal to its geometric mean. The last line follows from the definition of returns: $R_i = S_t/S_{t-1} - 1$. Therefore, by reporting the arithmetic mean of returns, we are overestimating the total the return over $T$ days! It is more appropriate to report the geometric mean $R_G$:\n",
    "\n",
    "\\begin{equation}\n",
    "R_G \\equiv \\left[(1+R_1)(1+R_2)\\dots(1+R_T)\\right]^{1/T} - 1,\n",
    "\\end{equation}\n",
    "\n",
    "which satisfies $S_T=(1+R_G)^TS_0$.\n",
    "\n",
    "### Harmonic mean\n",
    "\n",
    "*Harmonic mean* of a bunch of positive real numbers $x_1, \\dots, x_N$ is defined as\n",
    "\n",
    "\\begin{equation}\n",
    "\\bar{x}_H = \\frac{N}{\\sum_{i=1}^{N}1/x_i}.\n",
    "\\end{equation}\n",
    "\n",
    "Inverting both sides:\n",
    "\n",
    "\\begin{equation}\n",
    "\\frac{1}{\\bar{x}_H} = \\frac{1}{N}\\sum_{i=1}^{N}\\frac{1}{x_i},\n",
    "\\end{equation}\n",
    "\n",
    "we see that the inverse of the harmonic mean is the arithmetic mean of the inverse of the observations.\n",
    "\n",
    "`scipy.stats.hmean` computes the harmonic mean:"
   ]
  },
  {
   "cell_type": "code",
   "execution_count": 4,
   "metadata": {},
   "outputs": [
    {
     "name": "stdout",
     "output_type": "stream",
     "text": [
      "Harmonic mean: Scipy = 0.755112784567, Reproduced = 0.755112784567\n"
     ]
    }
   ],
   "source": [
    "xbar_h = N / np.sum(1/s_pos)\n",
    "print(\"Harmonic mean: Scipy = {0}, Reproduced = {1}\".format(stats.hmean(s_pos), xbar_h))"
   ]
  },
  {
   "cell_type": "markdown",
   "metadata": {},
   "source": [
    "Consider a strategy where we spend \\$1000 on shars of a stock every day. The higher the price of the stock, the fewer shares we get, and vice versa. If we do this for $N$ days, how much have we paid for each share on average? Let $S_i$ denote the stock price on the $i$th day. The total number of shares bought is\n",
    "\n",
    "\\begin{equation}\n",
    "\\text{Total shares} = \\sum_{i=1}^{N}\\frac{1000}{S_i},\n",
    "\\end{equation}\n",
    "\n",
    "at a total cost of\n",
    "\n",
    "\\begin{equation}\n",
    "\\text{Total cost} = N \\times 1000.\n",
    "\\end{equation}\n",
    "\n",
    "Therefore the average stock price is given by\n",
    "\n",
    "\\begin{equation}\n",
    "\\text{Average stock price}\n",
    "    = \\frac{\\text{Total cost}}{\\text{Total shares}}\n",
    "    = \\frac{N}{\\sum_{i=1}^{N}1/x_i},\n",
    "\\end{equation}\n",
    "\n",
    "which is the harmonic mean of the prices.\n",
    "\n",
    "The harmonic mean is at most the geometric mean. Let's check this for $N=2$:\n",
    "\n",
    "\\begin{align*}\n",
    "\\bar{x}_G^2 - \\bar{x}_H^2\n",
    "    &= \\left[(x_1x_2)^{1/2}\\right]^2 - \\left[\\frac{2}{1/x_1 + 1/x_2}\\right]^2 \\\\\n",
    "    &= x_1x_2 - \\left[\\frac{2x_1x_2}{x_1 + x_2}\\right]^2 \\\\\n",
    "    &= \\frac{x_1x_2\\left[(x_1 + x_2)^2 - 4 x_1x_2\\right]}{(x_1 + x_2)^2} \\\\\n",
    "    &= \\frac{x_1x_2(x_1 - x_2)^2}{(x_1 + x_2)^2} \\\\\n",
    "    &\\ge 0.\n",
    "\\end{align*}\n",
    "\n",
    "Again, the equality holds when $x_1=x_2=\\dots=x_N$. To summarize:\n",
    "\n",
    "\\begin{equation}\n",
    "\\bar{x}_H \\le \\bar{x}_G \\le \\bar{x}_A.\n",
    "\\end{equation}"
   ]
  }
 ],
 "metadata": {
  "kernelspec": {
   "display_name": "Python 2",
   "language": "python",
   "name": "python2"
  },
  "language_info": {
   "codemirror_mode": {
    "name": "ipython",
    "version": 2
   },
   "file_extension": ".py",
   "mimetype": "text/x-python",
   "name": "python",
   "nbconvert_exporter": "python",
   "pygments_lexer": "ipython2",
   "version": "2.7.10"
  }
 },
 "nbformat": 4,
 "nbformat_minor": 2
}
