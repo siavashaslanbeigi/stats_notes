{
 "cells": [
  {
   "cell_type": "markdown",
   "metadata": {},
   "source": [
    "# Linear regression assumptions\n",
    "\n",
    "In this notebook, we will review the assumptions underlying our analysis of [linear regression](https://nbviewer.jupyter.org/github/siavashaslanbeigi/stats_notes/blob/master/multi_linreg.ipynb), and what happens when those assumptions are invalid. What we've covered so far goes under the umbrella of Ordinary Least Squares (OLS).\n",
    "\n",
    "### Prerequisites\n",
    "* [Simple linear regression](https://nbviewer.jupyter.org/github/siavashaslanbeigi/stats_notes/blob/master/linreg.ipynb)\n",
    "* [Multiple linear regression](https://nbviewer.jupyter.org/github/siavashaslanbeigi/stats_notes/blob/master/multi_linreg.ipynb)"
   ]
  },
  {
   "cell_type": "markdown",
   "metadata": {},
   "source": [
    "## Non-normal noise\n",
    "\n",
    "### BLUE\n",
    "\n",
    "We derived the OLS estimator $\\hat{\\beta}_{OLS}$ in two ways: (i) minimizing a cost function which is constructed from the sum of squared prediction errors, and (ii) maximizing the probability of observing the data set by assuming $Y \\sim \\mathcal{N}(X\\beta, \\sigma^2I_m)$, where as usual $X$ is the design matrix and $I_m$ is the $m$-dimensional identity matrix.\n",
    "\n",
    "In the first method, we never spoke of the normal distribution, but came up with the cost function heuristically. In the second method, we did assume errors are normally distributed. So what's the deal? Is the OLS estimator $\\hat{\\beta}_{OLS}$ only valid if the residuals are normally distributed? To answer this question, consider the following model:\n",
    "\n",
    "\\begin{equation}\n",
    "y^{(i)} = \\beta^Tx^{(i)} + \\epsilon^{(i)},\n",
    "\\end{equation}\n",
    "\n",
    "where $\\epsilon^{(1)}, \\dots, \\epsilon^{(m)}$ are *any* random variables satisfying:\n",
    "\n",
    "\\begin{equation}\n",
    "\\mathbb{E}[\\epsilon^{(i)}] = 0, \\qquad\n",
    "\\mathbb{E}[\\epsilon^{(i)}\\epsilon^{(i')}] = \\sigma^2\\delta_{ii'}.\n",
    "\\end{equation}\n",
    "\n",
    "We can express these equations in matrix form:\n",
    "\n",
    "\\begin{equation}\n",
    "Y = X\\beta + \\epsilon, \\qquad\n",
    "\\mathbb{E}[\\epsilon]  = 0, \\qquad\n",
    "\\mathbb{E}[\\epsilon\\epsilon^T] = \\sigma^2 I_m.\n",
    "\\end{equation}\n",
    "\n",
    "Given that $\\epsilon^{(i)}$ could be non-normal, is the OLS estimator $\\hat{\\beta}_{OLS}$ still unbiased? Recall that\n",
    "\n",
    "\\begin{equation}\n",
    "\\hat{\\beta}_{OLS}=(X^TX)^{-1}X^T Y.\n",
    "\\end{equation}\n",
    "\n",
    "Let's compute the expectation value of $\\hat{\\beta}_{OLS}$:\n",
    "\n",
    "\\begin{align*}\n",
    "\\mathbb{E}[\\hat{\\beta}_{OLS}]\n",
    "    &= (X^TX)^{-1}X^T \\mathbb{E}[Y] \\\\\n",
    "    &= (X^TX)^{-1}X^T (X\\beta + \\mathbb{E}[\\epsilon]) \\\\\n",
    "    &= (X^TX)^{-1}X^TX\\beta \\\\\n",
    "    &= \\beta.\n",
    "\\end{align*}\n",
    "\n",
    "Nice! All we need for $\\hat{\\beta}_{OLS}$ to be unbiased is $\\mathbb{E}[\\epsilon] = 0$. We will compute the covariance $C[\\hat{\\beta}_{OLS}]$ of $\\hat{\\beta}_{OLS}$ next. First note that:\n",
    "\n",
    "\\begin{align*}\n",
    "\\hat{\\beta}_{OLS} - \\beta\n",
    "    &= (X^TX)^{-1}X^TY - (X^TX)^{-1}(X^TX)\\beta \\\\\n",
    "    &= (X^TX)^{-1}X^T(Y - X\\beta) \\\\\n",
    "    &= (X^TX)^{-1}X^T\\epsilon.\n",
    "\\end{align*}\n",
    "\n",
    "Then:\n",
    "\n",
    "\\begin{align*}\n",
    "C[\\hat{\\beta}_{OLS}]\n",
    "    &= \\mathbb{E}[(\\hat{\\beta}_{OLS} - \\beta)(\\hat{\\beta}_{OLS} - \\beta)^T] \\\\\n",
    "    &= (X^TX)^{-1}X^T \\mathbb{E}[\\epsilon\\epsilon^T] X(X^TX)^{-1} \\\\\n",
    "    &= (X^TX)^{-1}X^T(\\sigma^2 I_m)X(X^TX)^{-1} \\\\\n",
    "    &= \\sigma^2(X^TX)^{-1}.\n",
    "\\end{align*}\n",
    "\n",
    "We had arrived at the same expression before when assuming errors are normally distributed. Here we see that there's no need for that assumption, so long as the errors are uncorrelated and have the same variance.\n",
    "\n",
    "Could it be that there is some other linear estimator that is unbiased but has lower variance? In general, we can express any linear estimator $\\tilde{\\beta}$ as follows:\n",
    "\n",
    "\\begin{equation}\n",
    "\\tilde{\\beta} \\equiv CY, \\qquad\n",
    "C \\equiv (X^TX)^{-1}X^T + D,\n",
    "\\end{equation}\n",
    "\n",
    "where $D$ is any (for now) $(n+1)\\times m$ dimensional matrix. We want $\\tilde{\\beta}$ to be unbiased:\n",
    "\n",
    "\\begin{align*}\n",
    "\\mathbb{E}[\\tilde{\\beta}]\n",
    "    &= C \\mathbb{E}[Y] \\\\\n",
    "    &= CX\\beta \\\\\n",
    "    &= [(X^TX)^{-1}X^T + D]X\\beta \\\\\n",
    "    &= [I_{n+1} + DX]\\beta,\n",
    "\\end{align*}\n",
    "\n",
    "so we must have that\n",
    "\n",
    "\\begin{equation}\n",
    "DX = 0.\n",
    "\\end{equation}\n",
    "\n",
    "Let's compute the covariance $C[\\tilde{\\beta}]$ of $\\tilde{\\beta}$. First note that\n",
    "\n",
    "\\begin{align*}\n",
    "\\tilde{\\beta} - \\beta\n",
    "    &= CY - [(X^TX)^{-1}X^TX + DX]\\beta \\\\\n",
    "    &= [(X^TX)^{-1}X^T + D]Y - [(X^TX)^{-1}X^T + D]X\\beta \\\\\n",
    "    &= [(X^TX)^{-1}X^T + D](Y - X\\beta) \\\\\n",
    "    &= C\\epsilon,\n",
    "\\end{align*}\n",
    "\n",
    "where the first equality uses $DX=0$. Then:\n",
    "\n",
    "\\begin{align*}\n",
    "C[\\tilde{\\beta}]\n",
    "    &= \\mathbb{E}[(\\tilde{\\beta} - \\beta)(\\tilde{\\beta} - \\beta)^T] \\\\\n",
    "    &= C\\mathbb{E}[\\epsilon\\epsilon^T] C^T \\\\\n",
    "    &= \\sigma^2CC^T \\\\\n",
    "    &= \\sigma^2[(X^TX)^{-1}X^T + D][X(X^TX)^{-1} + D^T] \\\\\n",
    "    &= \\sigma^2[(X^TX)^{-1} + (X^TX)^{-1}(DX)^T + (DX)(X^TX)^{-1} + DD^T] \\\\\n",
    "    &= \\sigma^2(X^TX)^{-1} + \\sigma^2 DD^T \\\\\n",
    "    &= C[\\hat{\\beta}_{OLS}] + \\sigma^2 DD^T,\n",
    "\\end{align*}\n",
    "\n",
    "where the we have used $DX=0$. Looking at the diagonal elements of this matrix equation, we can see how the variance of the two estimators compare:\n",
    "\n",
    "\\begin{align*}\n",
    "C[\\tilde{\\beta}]_{jj}\n",
    "    &= C[\\hat{\\beta}_{OLS}]_{jj} + \\sigma^2[DD^T]_{jj} \\\\\n",
    "    &\\ge C[\\hat{\\beta}_{OLS}]_{jj}.\n",
    "\\end{align*}\n",
    "\n",
    "Therefore, $\\hat{\\beta}_{OLS}$ has the lowest variance of all linear estimators! That's why it's called the Best Linear Unbiased Estimator (BLUE), where best is in the sense of having the lowest variance. This remarkable result goes by the name of [Gauss–Markov theorem](https://en.wikipedia.org/wiki/Gauss%E2%80%93Markov_theorem).\n",
    "\n",
    "Let's remember what we assumed: (i) errors have zero mean, (ii) errors are uncorrelated, (iii) errors have the same finite variance. If these assumptions are true, the OLS estimator is the best in town. Note that we don't even have to assume *independence*; the errors just have to be uncorrelated.\n",
    "\n",
    "\n",
    "### Confidence intervals\n",
    "\n",
    "Although the OLS estimator is BLUE, the confidence intervals we derived for $\\hat{\\beta}$ do assume normality. A natural question, then, is how robust the confidence intervals are when $\\epsilon$ is not Gaussian noise. Recall that the normality assumption was necessary to show that\n",
    "\n",
    "\\begin{equation}\n",
    "t_j = \\frac{\\hat{\\beta}_j - \\beta_j}{\\sqrt{\\hat{\\sigma}^2[(X^TX)^{-1}]_{jj}}}\n",
    "\\end{equation}\n",
    "\n",
    "follows the t-distribution with $m-n-1$ degrees of freedom, where\n",
    "\n",
    "\\begin{equation}\n",
    "\\hat{\\sigma}^2 = \\frac{1}{m-n-1}\\hat{e}^T\\hat{e}, \\qquad\n",
    "\\hat{e} = Y - X\\hat{\\beta}.\n",
    "\\end{equation}"
   ]
  },
  {
   "cell_type": "code",
   "execution_count": 1,
   "metadata": {},
   "outputs": [],
   "source": [
    "import numpy as np\n",
    "from statsmodels import regression\n",
    "from statsmodels.stats import diagnostic\n",
    "import scipy.stats as stats\n",
    "import matplotlib.pyplot as plt\n",
    "\n",
    "# Make results reproducible\n",
    "np.random.seed(123)"
   ]
  },
  {
   "cell_type": "markdown",
   "metadata": {},
   "source": [
    "Let's generate data with the following non-Gaussian noise\n",
    "\n",
    "\\begin{equation}\n",
    "\\epsilon = e^Z - e^{\\frac{1}{2}}, \\qquad\n",
    "Z \\sim \\mathcal{N}(0, 1).\n",
    "\\end{equation}\n",
    "\n",
    "Mean of $\\epsilon$ is still zero, but its distribution is now heavily skewed:"
   ]
  },
  {
   "cell_type": "code",
   "execution_count": 2,
   "metadata": {},
   "outputs": [
    {
     "name": "stdout",
     "output_type": "stream",
     "text": [
      "Mean of sample = 0.0121881387208\n"
     ]
    },
    {
     "data": {
      "image/png": "[encoded data removed]",
      "text/plain": [
       "<matplotlib.figure.Figure at 0x109515710>"
      ]
     },
     "metadata": {},
     "output_type": "display_data"
    }
   ],
   "source": [
    "s = np.exp(np.random.normal(size=10000)) - np.exp(1/2.)\n",
    "print(\"Mean of sample = {0}\".format(np.mean(s)))\n",
    "plt.hist(s, bins=100, normed=True);"
   ]
  },
  {
   "cell_type": "markdown",
   "metadata": {},
   "source": [
    "Let's now generate some data using the model\n",
    "\n",
    "\\begin{equation}\n",
    "y = 0.3 + 2 x_1 + 5 x_2 + \\epsilon\n",
    "\\end{equation}\n",
    "\n",
    "and run linear regression:"
   ]
  },
  {
   "cell_type": "code",
   "execution_count": 3,
   "metadata": {},
   "outputs": [
    {
     "data": {
      "text/html": [
       "<table class=\"simpletable\">\n",
       "<caption>OLS Regression Results</caption>\n",
       "<tr>\n",
       "  <th>Dep. Variable:</th>            <td>y</td>        <th>  R-squared:         </th> <td>   0.305</td>\n",
       "</tr>\n",
       "<tr>\n",
       "  <th>Model:</th>                   <td>OLS</td>       <th>  Adj. R-squared:    </th> <td>   0.290</td>\n",
       "</tr>\n",
       "<tr>\n",
       "  <th>Method:</th>             <td>Least Squares</td>  <th>  F-statistic:       </th> <td>   21.24</td>\n",
       "</tr>\n",
       "<tr>\n",
       "  <th>Date:</th>             <td>Thu, 28 Mar 2019</td> <th>  Prob (F-statistic):</th> <td>2.23e-08</td>\n",
       "</tr>\n",
       "<tr>\n",
       "  <th>Time:</th>                 <td>19:52:17</td>     <th>  Log-Likelihood:    </th> <td> -217.92</td>\n",
       "</tr>\n",
       "<tr>\n",
       "  <th>No. Observations:</th>      <td>   100</td>      <th>  AIC:               </th> <td>   441.8</td>\n",
       "</tr>\n",
       "<tr>\n",
       "  <th>Df Residuals:</th>          <td>    97</td>      <th>  BIC:               </th> <td>   449.6</td>\n",
       "</tr>\n",
       "<tr>\n",
       "  <th>Df Model:</th>              <td>     2</td>      <th>                     </th>     <td> </td>   \n",
       "</tr>\n",
       "<tr>\n",
       "  <th>Covariance Type:</th>      <td>nonrobust</td>    <th>                     </th>     <td> </td>   \n",
       "</tr>\n",
       "</table>\n",
       "<table class=\"simpletable\">\n",
       "<tr>\n",
       "    <td></td>       <th>coef</th>     <th>std err</th>      <th>t</th>      <th>P>|t|</th>  <th>[0.025</th>    <th>0.975]</th>  \n",
       "</tr>\n",
       "<tr>\n",
       "  <th>const</th> <td>    0.6925</td> <td>    0.576</td> <td>    1.203</td> <td> 0.232</td> <td>   -0.450</td> <td>    1.835</td>\n",
       "</tr>\n",
       "<tr>\n",
       "  <th>x1</th>    <td>    1.8252</td> <td>    0.767</td> <td>    2.381</td> <td> 0.019</td> <td>    0.303</td> <td>    3.347</td>\n",
       "</tr>\n",
       "<tr>\n",
       "  <th>x2</th>    <td>    4.4555</td> <td>    0.768</td> <td>    5.804</td> <td> 0.000</td> <td>    2.932</td> <td>    5.979</td>\n",
       "</tr>\n",
       "</table>\n",
       "<table class=\"simpletable\">\n",
       "<tr>\n",
       "  <th>Omnibus:</th>       <td>88.593</td> <th>  Durbin-Watson:     </th> <td>   1.830</td> \n",
       "</tr>\n",
       "<tr>\n",
       "  <th>Prob(Omnibus):</th> <td> 0.000</td> <th>  Jarque-Bera (JB):  </th> <td> 673.446</td> \n",
       "</tr>\n",
       "<tr>\n",
       "  <th>Skew:</th>          <td> 2.991</td> <th>  Prob(JB):          </th> <td>5.80e-147</td>\n",
       "</tr>\n",
       "<tr>\n",
       "  <th>Kurtosis:</th>      <td>14.218</td> <th>  Cond. No.          </th> <td>    5.26</td> \n",
       "</tr>\n",
       "</table><br/><br/>Warnings:<br/>[1] Standard Errors assume that the covariance matrix of the errors is correctly specified."
      ],
      "text/plain": [
       "<class 'statsmodels.iolib.summary.Summary'>\n",
       "\"\"\"\n",
       "                            OLS Regression Results                            \n",
       "==============================================================================\n",
       "Dep. Variable:                      y   R-squared:                       0.305\n",
       "Model:                            OLS   Adj. R-squared:                  0.290\n",
       "Method:                 Least Squares   F-statistic:                     21.24\n",
       "Date:                Thu, 28 Mar 2019   Prob (F-statistic):           2.23e-08\n",
       "Time:                        19:52:17   Log-Likelihood:                -217.92\n",
       "No. Observations:                 100   AIC:                             441.8\n",
       "Df Residuals:                      97   BIC:                             449.6\n",
       "Df Model:                           2                                         \n",
       "Covariance Type:            nonrobust                                         \n",
       "==============================================================================\n",
       "                 coef    std err          t      P>|t|      [0.025      0.975]\n",
       "------------------------------------------------------------------------------\n",
       "const          0.6925      0.576      1.203      0.232      -0.450       1.835\n",
       "x1             1.8252      0.767      2.381      0.019       0.303       3.347\n",
       "x2             4.4555      0.768      5.804      0.000       2.932       5.979\n",
       "==============================================================================\n",
       "Omnibus:                       88.593   Durbin-Watson:                   1.830\n",
       "Prob(Omnibus):                  0.000   Jarque-Bera (JB):              673.446\n",
       "Skew:                           2.991   Prob(JB):                    5.80e-147\n",
       "Kurtosis:                      14.218   Cond. No.                         5.26\n",
       "==============================================================================\n",
       "\n",
       "Warnings:\n",
       "[1] Standard Errors assume that the covariance matrix of the errors is correctly specified.\n",
       "\"\"\""
      ]
     },
     "execution_count": 3,
     "metadata": {},
     "output_type": "execute_result"
    }
   ],
   "source": [
    "betas = np.array([0.3, 2, 5])\n",
    "X = np.column_stack([np.ones(100), np.random.uniform(size=(100, 2))])\n",
    "y = X.dot(betas) + np.exp(np.random.normal(size=100)) - np.exp(1/2.)\n",
    "\n",
    "model = regression.linear_model.OLS(y, X).fit()\n",
    "model.summary()"
   ]
  },
  {
   "cell_type": "markdown",
   "metadata": {},
   "source": [
    "We see that p-value associated with the Jarque-Bera test is extremely small, since the errors are coming from a highly skewed distribution. We can also see this by plotting the histogram of residuals:"
   ]
  },
  {
   "cell_type": "code",
   "execution_count": 4,
   "metadata": {},
   "outputs": [
    {
     "data": {
      "image/png": "[encoded data removed]",
      "text/plain": [
       "<matplotlib.figure.Figure at 0x10ab66fd0>"
      ]
     },
     "metadata": {},
     "output_type": "display_data"
    }
   ],
   "source": [
    "plt.hist(model.resid, bins=100, normed=True);"
   ]
  },
  {
   "cell_type": "markdown",
   "metadata": {},
   "source": [
    "Let's compute the distribution of $t_j$ empirically and compare it to the t-distribution with $m-3$ degrees of freedom:"
   ]
  },
  {
   "cell_type": "code",
   "execution_count": 5,
   "metadata": {},
   "outputs": [
    {
     "data": {
      "image/png": "[encoded data removed]",
      "text/plain": [
       "<matplotlib.figure.Figure at 0x10afd6b50>"
      ]
     },
     "metadata": {},
     "output_type": "display_data"
    }
   ],
   "source": [
    "def empirical_t(X_, betas_r):\n",
    "    (m, p) = X_.shape\n",
    "    n = p - 1\n",
    "\n",
    "    # Quantities that will not change during the simulation\n",
    "    D = np.linalg.inv(X_.T.dot(X_))\n",
    "    A = D.dot(X_.T)\n",
    "\n",
    "    # Number of times to compute t values\n",
    "    trials = 50000\n",
    "    tvals = np.zeros((trials, n + 1))\n",
    "\n",
    "    for i in range(trials):\n",
    "        # Simulate noise\n",
    "        noise = np.exp(np.random.normal(size=m)) - np.exp(1/2.)\n",
    "        # Compute y\n",
    "        y_ = X_.dot(betas_r) + noise\n",
    "        # OLS estimator\n",
    "        betas_est = A.dot(y_)\n",
    "        # Residuals\n",
    "        e_ = y_ - X_.dot(betas_est)\n",
    "        # Standard error of estimates\n",
    "        se = np.sqrt(1.0/(m - 2) * np.dot(e_, e_) * np.diag(D))\n",
    "        # t values\n",
    "        tvals[i,:] = (betas_est - betas_r) / se\n",
    "\n",
    "    # Plot results\n",
    "    tx = np.linspace(-6, 6, 100)\n",
    "\n",
    "    fig, axes = plt.subplots(1, 3)\n",
    "    fig.set_size_inches(10, 4)\n",
    "    fig.tight_layout()\n",
    "\n",
    "    for i in range(n + 1):\n",
    "        axes[i].hist(tvals[:, i], bins=100, normed=True);\n",
    "        axes[i].plot(tx, stats.t.pdf(tx, m - n - 1))\n",
    "        axes[i].set_title(\"Beta {0}\".format(i))\n",
    "\n",
    "empirical_t(X, betas)"
   ]
  },
  {
   "cell_type": "markdown",
   "metadata": {},
   "source": [
    "This isn't bad at all! Even though the noise we're using is very skewed, the resulting $t$-values for $\\hat{\\beta}_j$ are very-well approximated by the $t$-distribution. Let's now try the same experiment but with $m=20$:"
   ]
  },
  {
   "cell_type": "code",
   "execution_count": 6,
   "metadata": {
    "scrolled": true
   },
   "outputs": [
    {
     "data": {
      "image/png": "[encoded data removed]",
      "text/plain": [
       "<matplotlib.figure.Figure at 0x10b4baa50>"
      ]
     },
     "metadata": {},
     "output_type": "display_data"
    }
   ],
   "source": [
    "empirical_t(X[:20, :], betas)"
   ]
  },
  {
   "cell_type": "markdown",
   "metadata": {},
   "source": [
    "Now we start to see deviations from the t-distribution. This analysis has been comforting though. It seems like if we have enough data points, the confidence intervals will still be reliable even if $\\epsilon$ is non-normal."
   ]
  },
  {
   "cell_type": "markdown",
   "metadata": {},
   "source": [
    "## Generalized Least Squares\n",
    "\n",
    "So far we've been assuming that the errors $\\epsilon^{(i)}$ are uncorrelated and have the same variance. What if that's not the case? Consider, for instance, the following model:\n",
    "\n",
    "\\begin{equation}\n",
    "Y = X\\beta + \\epsilon, \\qquad\n",
    "\\epsilon \\sim \\mathcal{N}(0, \\Omega).\n",
    "\\end{equation}\n",
    "\n",
    "In other words, $\\epsilon^{(1)}, \\dots, \\epsilon^{(m)}$ follow a multivariate normal distribution with zero mean and covariance matrix $\\mathbb{E}[\\epsilon^{(i)}\\epsilon^{(i')}] = \\Omega_{i i'}$. In this case, the probability of observing the dataset is\n",
    "\n",
    "\\begin{equation}\n",
    "P(\\beta) = \\frac{1}{(2\\pi|\\Omega|)^{m/2}}\\exp{\\left[{-\\frac{1}{2}(Y - X\\beta)^T\\Omega^{-1}(Y - X\\beta)}\\right]}.\n",
    "\\end{equation}\n",
    "\n",
    "Following the principle of maximum likelihood, we can find the parameters $\\hat{\\beta}_{GLS}$ (GLS stands for, you guessed it, Generalized Least Squares) that maximize $P$, which is equivalent to minimizing the cost function\n",
    "\n",
    "\\begin{equation}\n",
    "J(\\beta) = \\frac{1}{2m}(Y - X\\beta)^T\\Omega^{-1}(Y - X\\beta).\n",
    "\\end{equation}\n",
    "\n",
    "Differentiating w.r.t to $\\beta$\n",
    "\n",
    "\\begin{equation}\n",
    "\\nabla J = \\frac{1}{m}X^T\\Omega^{-1}(X\\beta - Y),\n",
    "\\end{equation}\n",
    "\n",
    "and setting $\\nabla J$ to zero, we find:\n",
    "\n",
    "\\begin{equation}\n",
    "\\hat{\\beta}_{GLS} = (X^T\\Omega^{-1}X)^{-1}X^T\\Omega^{-1}Y.\n",
    "\\end{equation}\n",
    "\n",
    "This reduces to the expression we had derived for $\\hat{\\beta}_{OLS}$ when $\\Omega = \\sigma^2 I_m$.\n",
    "\n",
    "Although we assumed a normal distribution to arrive at $\\hat{\\beta}_{GLS}$, as it turns out, $\\hat{\\beta}_{GLS}$ is BLUE under the more generic conditions:\n",
    "\n",
    "\\begin{equation}\n",
    "\\mathbb{E}[\\epsilon] = 0, \\qquad\n",
    "\\mathbb{E}[\\epsilon\\epsilon^T] = \\Omega.\n",
    "\\end{equation}\n",
    "\n",
    "The proof is very similar to that for OLS; we just need to insert $\\Omega^{-1}$ in a bunch of places. First, note that $\\hat{\\beta}_{GLS}$ is unbiased:\n",
    "\n",
    "\\begin{align*}\n",
    "\\mathbb{E}[\\hat{\\beta}_{GLS}]\n",
    "    &= (X^T\\Omega^{-1}X)^{-1}X^T\\Omega^{-1} \\mathbb{E}[Y] \\\\\n",
    "    &= (X^T\\Omega^{-1}X)^{-1}X^T\\Omega^{-1} (X\\beta + \\mathbb{E}[\\epsilon]) \\\\\n",
    "    &= (X^T\\Omega^{-1}X)^{-1}X^T\\Omega^{-1}X\\beta \\\\\n",
    "    &= \\beta.\n",
    "\\end{align*}\n",
    "\n",
    "Using\n",
    "\n",
    "\\begin{align*}\n",
    "\\hat{\\beta}_{GLS} - \\beta\n",
    "    &= (X^T\\Omega^{-1}X)^{-1}X^T\\Omega^{-1}Y - (X^T\\Omega^{-1}X)^{-1}(X^T\\Omega^{-1}X)\\beta \\\\\n",
    "    &= (X^T\\Omega^{-1}X)^{-1}X^T\\Omega^{-1}(Y - X\\beta) \\\\\n",
    "    &= (X^T\\Omega^{-1}X)^{-1}X^T\\Omega^{-1}\\epsilon,\n",
    "\\end{align*}\n",
    "\n",
    "we can compute the covariance of $\\hat{\\beta}_{GLS}$:\n",
    "\n",
    "\\begin{align*}\n",
    "C[\\hat{\\beta}_{GLS}]\n",
    "    &= \\mathbb{E}[(\\hat{\\beta}_{GLS} - \\beta)(\\hat{\\beta}_{GLS} - \\beta)^T] \\\\\n",
    "    &= (X^T\\Omega^{-1}X)^{-1}X^T\\Omega^{-1}\\mathbb{E}[\\epsilon \\epsilon^T] \\Omega^{-1}X(X^T\\Omega^{-1}X)^{-1} \\\\\n",
    "    &= (X^T\\Omega^{-1}X)^{-1}X^T\\Omega^{-1} \\Omega \\Omega^{-1}X(X^T\\Omega^{-1}X)^{-1} \\\\\n",
    "    &= (X^T\\Omega^{-1}X)^{-1}.\n",
    "\\end{align*}\n",
    "\n",
    "Consider now some other linear estimator $\\tilde{\\beta}$:\n",
    "\n",
    "\\begin{equation}\n",
    "\\tilde{\\beta} \\equiv CY, \\qquad\n",
    "C \\equiv (X^T\\Omega^{-1}X)^{-1}X^T\\Omega^{-1} + D,\n",
    "\\end{equation}\n",
    "\n",
    "where $D$ is any (for now) $(n+1)\\times m$ dimensional matrix. We want $\\tilde{\\beta}$ to be unbiased:\n",
    "\n",
    "\\begin{align*}\n",
    "\\mathbb{E}[\\tilde{\\beta}]\n",
    "    &= C\\mathbb{E}[Y] \\\\\n",
    "    &= CX\\beta \\\\\n",
    "    &= [(X^T\\Omega^{-1}X)^{-1}X^T\\Omega^{-1} + D]X\\beta \\\\\n",
    "    &= [I_{n+1} + DX]\\beta,\n",
    "\\end{align*}\n",
    "\n",
    "so we must have that\n",
    "\n",
    "\\begin{equation}\n",
    "DX = 0.\n",
    "\\end{equation}\n",
    "\n",
    "Let's compute the covariance $C[\\tilde{\\beta}]$ of $\\tilde{\\beta}$. First note that\n",
    "\n",
    "\\begin{align*}\n",
    "\\tilde{\\beta} - \\beta\n",
    "    &= CY - [(X^T\\Omega^{-1}X)^{-1}X^T\\Omega^{-1}X + DX]\\beta \\\\\n",
    "    &= [(X^T\\Omega^{-1}X)^{-1}X^T\\Omega^{-1} + D]Y - [(X^T\\Omega^{-1}X)^{-1}X^T\\Omega^{-1} + D]X\\beta \\\\\n",
    "    &= [(X^T\\Omega^{-1}X)^{-1}X^T\\Omega^{-1} + D](Y - X\\beta) \\\\\n",
    "    &= C\\epsilon,\n",
    "\\end{align*}\n",
    "\n",
    "where the first equality uses $DX=0$. Then:\n",
    "\n",
    "\\begin{align*}\n",
    "C[\\tilde{\\beta}]\n",
    "    &= \\mathbb{E}[(\\tilde{\\beta} - \\beta)(\\tilde{\\beta} - \\beta)^T] \\\\\n",
    "    &= C\\mathbb{E}[\\epsilon\\epsilon^T] C^T \\\\\n",
    "    &= C \\Omega C^T \\\\\n",
    "    &= [(X^T\\Omega^{-1}X)^{-1}X^T\\Omega^{-1} + D] \\Omega [\\Omega^{-1}X(X^T\\Omega^{-1}X)^{-1} + D^T] \\\\\n",
    "    &= (X^T\\Omega^{-1}X)^{-1} + (X^T\\Omega^{-1}X)^{-1}(DX)^T + (DX)(X^T\\Omega^{-1}X)^{-1} + D\\Omega D^T \\\\\n",
    "    &= C[\\hat{\\beta}_{GLS}] + D\\Omega D^T,\n",
    "\\end{align*}\n",
    "\n",
    "where the we have used $DX=0$. Looking at the diagonal elements of this matrix equation, we can see how the variance of the two estimators compare:\n",
    "\n",
    "\\begin{equation}\n",
    "C[\\tilde{\\beta}]_{jj} = C[\\hat{\\beta}_{GLS}]_{jj} + [D\\Omega D^T]_{jj} \\ge C[\\hat{\\beta}_{GLS}]_{jj},\n",
    "\\end{equation}\n",
    "\n",
    "where we have used the fact that the diagonal elements of $D\\Omega D^T$ are always non-negative:\n",
    "\n",
    "\\begin{align*}\n",
    "[D\\Omega D^T]_{jj}\n",
    "    &= [D \\mathbb{E}[\\epsilon \\epsilon^T] D^T]_{jj} \\\\\n",
    "    &= \\mathbb{E}[(D\\epsilon) (D\\epsilon)^T]_{jj} \\\\\n",
    "    &= \\mathbb{E}\\left[[D\\epsilon]_j^2\\right] \\\\\n",
    "    &\\ge 0.\n",
    "\\end{align*}\n",
    "\n",
    "Therefore, $\\hat{\\beta}_{GLS}$ is unbiased and has the lowest variance of all linear estimators, i.e. it's BLUE! Let's consider a concrete alternative linear estimator, our favourite OLS estimator $\\hat{\\beta}_{OLS}$:\n",
    "\n",
    "\\begin{equation}\n",
    "\\hat{\\beta}_{OLS} = CY, \\qquad\n",
    "C = (X^TX)^{-1}X^T.\n",
    "\\end{equation}\n",
    "\n",
    "It follows from the definition of $C$ that\n",
    "\n",
    "\\begin{equation}\n",
    "D = (X^TX)^{-1}X^T - (X^T\\Omega^{-1}X)^{-1}X^T\\Omega^{-1}.\n",
    "\\end{equation}\n",
    "\n",
    "Is $\\hat{\\beta}_{OLS}$ still unbiased in a world where errors are correlated and don't have the same variance? All we need to do is compute $DX$:\n",
    "\n",
    "\\begin{equation}\n",
    "DX = (X^TX)^{-1}X^TX - (X^T\\Omega^{-1}X)^{-1}X^T\\Omega^{-1}X = 0.\n",
    "\\end{equation}\n",
    "\n",
    "Indeed! Although it's still unbiased, its variance is larger than $\\hat{\\beta}_{GLS}$, so we're better off using $\\hat{\\beta}_{GLS}$.\n",
    "\n",
    "Assuming we know $\\Omega$, we can easily calculate $\\hat{\\beta}_{GLS}$ and $C[\\hat{\\beta}_{GLS}]$, which in turn allows to construct confidence intervals, t-tests, etc. This, however, is only realistic in cases where the noise is well understood, for instance if it's due to some measuring device we have control over. What if we don't know $\\Omega$? That's what we'll explore next."
   ]
  },
  {
   "cell_type": "markdown",
   "metadata": {},
   "source": [
    "## Heteroscedasticity\n",
    "\n",
    "When the errors $\\epsilon^{(i)}$ do not have the same variance, they are said to be *heteroscedastic*. As we argued in the previous section, if we have prior knowledge about the covariance matrix $\\langle\\epsilon^{(i)}\\epsilon^{(i')}\\rangle$, we can just use generalized least squares and call it a day. If we don't, life gets more complicated.\n",
    "\n",
    "Let's construct a heteroscedastic data set using\n",
    "\n",
    "\\begin{equation}\n",
    "y = 0.3 + 0.2x + \\epsilon, \\qquad\n",
    "\\epsilon = 0.2(0.3 + 0.2x)z, \\qquad\n",
    "z \\sim \\mathcal{N}(0, 1).\n",
    "\\end{equation}\n",
    "\n",
    "As $x$ gets larger, the variance of $\\epsilon$ also gets larger. We can also see this graphically:"
   ]
  },
  {
   "cell_type": "code",
   "execution_count": 7,
   "metadata": {},
   "outputs": [
    {
     "data": {
      "image/png": "[encoded data removed]",
      "text/plain": [
       "<matplotlib.figure.Figure at 0x10b8d3cd0>"
      ]
     },
     "metadata": {},
     "output_type": "display_data"
    }
   ],
   "source": [
    "# Generate heteroscedastic data\n",
    "m_het = 100\n",
    "X_het = np.column_stack([np.ones(m_het), np.random.uniform(0, 2, size=m_het)])\n",
    "_, p_het = X_het.shape\n",
    "betas_het = np.array([0.3, 2])\n",
    "het_sigmas = 0.2 * X_het.dot(betas_het)\n",
    "y_het = X_het.dot(betas_het) + het_sigmas * np.random.normal(size=m_het)\n",
    "\n",
    "# Fit OLS\n",
    "model_het = regression.linear_model.OLS(y_het, X_het).fit()\n",
    "\n",
    "# Plot data and line of best fit\n",
    "x_plt = np.linspace(0, 2, m_het)\n",
    "plt.plot(x_plt, model_het.params[0] + model_het.params[1] * x_plt, 'r-')\n",
    "plt.scatter(X_het[:, 1], y_het);"
   ]
  },
  {
   "cell_type": "markdown",
   "metadata": {},
   "source": [
    "Before exploring the implications of heteroscedasticity, let's see how we can detect it in our data tests.\n",
    "\n",
    "### Breusch–Pagan test\n",
    "\n",
    "The [Breusch-Pagan](https://en.wikipedia.org/wiki/Breusch%E2%80%93Pagan_test) test proceeds as follows:\n",
    "\n",
    "1. Assume homoscedasticity, i.e. the variance of errors does not change from one observation to another: $Y = X\\beta + \\epsilon$, where $\\mathbb{E}[\\epsilon] = 0$ and $\\mathbb{E}[\\epsilon\\epsilon^T] = \\sigma^2I_m$.\n",
    "2. Fix the design matrix $X$, which as usual is an $m \\times (n+1)$ dimensional matrix where $m$ is the number of observations and $n$ is the number of features (or independent variables).\n",
    "3. Generate $m$ samples of $y$ and find the OLS estimates $\\hat{\\beta}$. Remember that even with homoscedastic noise, there's always a chance of getting a heteroscedastic-looking dataset.\n",
    "4. Compute the square of residuals: $\\hat{e}_i^2 = (y^{(i)} - \\hat{\\beta}^Tx^{(i)})^2$.\n",
    "5. Regress the squared residuals against the features: $\\hat{e}_i^2 = \\gamma^Tx^{(i)} + \\eta^{(i)}$, where $\\gamma$ is the vector of regression parameters and $\\eta$ is homoscedastic noise. Fine the OLS estimates $\\hat{\\gamma}$.\n",
    "6. Compute $mR^2$ for the second regression, where as usual $R^2$ is the coefficient of determination. This is the Breusch–Pagan test-statistic. The idea is that if the errors depend on $x$, $R^2$ should be larger on average.\n",
    "7. Repeat steps 3-6 to get a distribution for the Breusch–Pagan test-statistic.\n",
    "\n",
    "Apparently it can be shown that the Breusch–Pagan test-statistic is asymptotically distributed as $\\chi^2_n$. Below we verify this claim by running simulations using Gaussian noise."
   ]
  },
  {
   "cell_type": "code",
   "execution_count": 8,
   "metadata": {},
   "outputs": [],
   "source": [
    "def empirical_bp(X_, betas_r):\n",
    "    \"\"\"Determine the distribution of the Breusch–Pagan test-statistic using simulations.\n",
    "    \n",
    "    Args:\n",
    "        X_ (numpy.ndarray): design matrix. It's a `m x (n+1)` dimensional matrix where\n",
    "            `m` is the number of observations and `n` is the number of features\n",
    "            (or independent variables).\n",
    "        betas_r (numpy.ndarray): \"real\" value of parameters in linear regression, represented\n",
    "            by a numpy array of length `n+1`.\n",
    "    \"\"\"\n",
    "    (m, p) = X_.shape\n",
    "    n = p - 1\n",
    "\n",
    "    # Quantities that will not change during the simulation\n",
    "    D = np.linalg.inv(X_.T.dot(X_))\n",
    "    A = D.dot(X_.T)\n",
    "\n",
    "    # Number of times to compute t values\n",
    "    trials = 50000\n",
    "    bp_vals = []\n",
    "\n",
    "    for i in range(trials):\n",
    "        # Simulate y\n",
    "        y_ = X_.dot(betas_r) + np.random.normal(size=m)\n",
    "        # OLS estimator\n",
    "        betas_est = A.dot(y_)\n",
    "        # Residuals\n",
    "        e2 = (y_ - X_.dot(betas_est))**2\n",
    "        # Standard error of estimates\n",
    "        e2_betas_est = A.dot(e2)\n",
    "        f_ = X_.dot(e2_betas_est)\n",
    "        r2 = np.corrcoef(f_, e2)[0, 1]**2\n",
    "        bp_vals.append(m * r2)\n",
    "\n",
    "    # Plot results\n",
    "    px = np.linspace(min(bp_vals), max(bp_vals), 1000)\n",
    "    plt.plot(px, stats.chi2.pdf(px, n), label=r'$\\chi^2_{0}$'.format(n))\n",
    "    plt.hist(bp_vals, bins=100, normed=True)\n",
    "    plt.title('Emprical Breusch-Pagan test-statistic distribution')\n",
    "    plt.legend()"
   ]
  },
  {
   "cell_type": "markdown",
   "metadata": {},
   "source": [
    "Let's generate a random $100 \\times 5$-dimensional design matrix and also a random $\\beta$ vector. Then, we can run the simulations and check the distribution of the Breusch-Pagan test-statistic empirically:"
   ]
  },
  {
   "cell_type": "code",
   "execution_count": 9,
   "metadata": {},
   "outputs": [
    {
     "data": {
      "image/png": "[encoded data removed]",
      "text/plain": [
       "<matplotlib.figure.Figure at 0x10b94ee50>"
      ]
     },
     "metadata": {},
     "output_type": "display_data"
    }
   ],
   "source": [
    "empirical_bp(\n",
    "    np.column_stack([np.ones(100), np.random.uniform(size=(100, 4))]),\n",
    "    np.random.uniform(size=(5,))\n",
    ")"
   ]
  },
  {
   "cell_type": "markdown",
   "metadata": {},
   "source": [
    "Very nice. It is almost certainly the case that the distribution doesn't depend on $X$ or the \"true\" regression parameters $\\beta$, since we generated them randomly.\n",
    "\n",
    "Let's go back to the heteroscedastic dataset we had generated previously. We can now run linear regression on the square of residuals and compute the Breusch-Pagan test-statistic:"
   ]
  },
  {
   "cell_type": "code",
   "execution_count": 10,
   "metadata": {},
   "outputs": [
    {
     "name": "stdout",
     "output_type": "stream",
     "text": [
      "Breusch-Pagan test-statistic = 15.3732958511\n"
     ]
    }
   ],
   "source": [
    "model_resid = regression.linear_model.OLS(model_het.resid**2, X_het).fit()\n",
    "bp_test = len(y_het) * model_resid.rsquared\n",
    "\n",
    "print(\"Breusch-Pagan test-statistic = {0}\".format(bp_test))"
   ]
  },
  {
   "cell_type": "markdown",
   "metadata": {},
   "source": [
    "Since we know the distribution of the test-statistic is $\\chi^2_1$, we can compute the p-value:"
   ]
  },
  {
   "cell_type": "code",
   "execution_count": 11,
   "metadata": {},
   "outputs": [
    {
     "name": "stdout",
     "output_type": "stream",
     "text": [
      "Breusch-Pagan test-statistic = 8.82263842481e-05\n"
     ]
    }
   ],
   "source": [
    "bp_pval = 1 - stats.chi2.cdf(bp_test, 1)\n",
    "print(\"Breusch-Pagan test-statistic = {0}\".format(bp_pval))"
   ]
  },
  {
   "cell_type": "markdown",
   "metadata": {},
   "source": [
    "As expected the p-value is small, so we can reject the null hypothesis that the data is homoscedastic. Of course, we already knew that, since we create the dataset!\n",
    "\n",
    "`statsmodels` also has a function for computing the Breusch-Pagan test-statistic and its corresponding p-value:"
   ]
  },
  {
   "cell_type": "code",
   "execution_count": 12,
   "metadata": {},
   "outputs": [
    {
     "name": "stdout",
     "output_type": "stream",
     "text": [
      "statsmodels Breusch-Pagan test-statistic = 15.3732958511\n",
      "statsmodels Breusch-Pagan p-value = 8.82263842481e-05\n"
     ]
    }
   ],
   "source": [
    "bp_test_sm, bp_pval_sm, _, _ = diagnostic.het_breuschpagan(model_het.resid, X_het)\n",
    "\n",
    "print(\"statsmodels Breusch-Pagan test-statistic = {0}\".format(bp_test_sm))\n",
    "print(\"statsmodels Breusch-Pagan p-value = {0}\".format(bp_pval_sm))"
   ]
  },
  {
   "cell_type": "markdown",
   "metadata": {},
   "source": [
    "Excellent, our values match!\n",
    "\n",
    "### Heteroscedasticity-consistent errors\n",
    "\n",
    "So, what do we do about heteroscedasticity when it exists? Suppose the dataset is generated using the model\n",
    "\n",
    "\\begin{equation}\n",
    "Y = X\\beta + \\epsilon, \\qquad\n",
    "\\mathbb{E}[\\epsilon]  = 0, \\qquad\n",
    "\\mathbb{E}[\\epsilon\\epsilon^T] = \\Omega,\n",
    "\\end{equation}\n",
    "\n",
    "but we don't know what $\\Omega$ is. How does the OLS estimator $\\hat{\\beta}_{OLS}$ cope in this world? Recall that\n",
    "\n",
    "\\begin{equation}\n",
    "\\hat{\\beta}_{OLS} = (X^TX)^{-1}X^TY.\n",
    "\\end{equation}\n",
    "\n",
    "In our discussion of generalized least squares, we showed that $\\hat{\\beta}_{OLS}$ is still unbiased. Here's another simple proof:\n",
    "\n",
    "\\begin{align*}\n",
    "\\mathbb{E}[\\hat{\\beta}_{OLS}]\n",
    "    &= (X^TX)^{-1}X^T \\mathbb{E}[Y] \\\\\n",
    "    &= (X^TX)^{-1}X^T (X\\beta + \\mathbb{E}[\\epsilon]) \\\\\n",
    "    &= (X^TX)^{-1}X^TX\\beta \\\\\n",
    "    &= \\beta.\n",
    "\\end{align*}\n",
    "\n",
    "We also know from our GLS discussion that although $\\hat{\\beta}_{OLS}$ is unbiased, it no longer has the least variance amongst all linear estimators; that holy position is occupied by the generalized least squares estimator $\\hat{\\beta}_{GLS}$. Let's compute the covariance of $\\hat{\\beta}_{OLS}$. First note that\n",
    "\n",
    "\\begin{align*}\n",
    "\\hat{\\beta}_{OLS} - \\beta\n",
    "    &= (X^TX)^{-1}X^T Y - (X^TX)^{-1}(X^TX)\\beta \\\\\n",
    "    &= (X^TX)^{-1}X^T(Y - X\\beta) \\\\\n",
    "    &= (X^TX)^{-1}X^T\\epsilon.\n",
    "\\end{align*}\n",
    "\n",
    "Then:\n",
    "\n",
    "\\begin{align*}\n",
    "\\text{C}[\\hat{\\beta}_{OLS}]\n",
    "    &= \\mathbb{E}[(\\hat{\\beta}_{OLS} - \\beta)(\\hat{\\beta}_{OLS} - \\beta)^T] \\\\\n",
    "    &= (X^TX)^{-1}X^T \\mathbb{E}[\\epsilon\\epsilon^T] X(X^TX)^{-1} \\\\\n",
    "    &= (X^TX)^{-1}X^T \\Omega X(X^TX)^{-1}.\n",
    "\\end{align*}\n",
    "\n",
    "For homoscedastic errors, i.e. $\\Omega = \\sigma^2 I$, we recover the result $\\text{C}[\\hat{\\beta}_{OLS}] = \\sigma^2(X^TX)^{-1}$.\n",
    "\n",
    "Now, we're assuming that we don't know $\\Omega$, so we'll need to estimate the standard errors, confidence intervals, etc from our dataset. Is the OLS estimator $\\hat{C}_{OLS}$ of the covariance matrix still unbiased? Remember that\n",
    "\n",
    "\\begin{equation}\n",
    "\\hat{C}_{OLS} = \\frac{\\hat{e}^T\\hat{e}}{m-n-1}(X^TX)^{-1},\n",
    "\\end{equation}\n",
    "\n",
    "where as usual $\\hat{e}$ are the residuals:\n",
    "\n",
    "\\begin{equation}\n",
    "\\hat{e} = Y - X\\hat{\\beta}_{OLS}.\n",
    "\\end{equation}\n",
    "\n",
    "The expectation value of residuals is still zero:\n",
    "\n",
    "\\begin{align*}\n",
    "\\mathbb{E}[\\hat{e}]\n",
    "    &= \\mathbb{E}[Y] - X\\mathbb{E}[\\hat{\\beta}_{OLS}] \\\\\n",
    "    &= (X\\beta + \\mathbb{E}[\\epsilon]) - X\\beta \\\\\n",
    "    &= 0.\n",
    "\\end{align*}\n",
    "\n",
    "As before, we can rewrite $\\hat{e}$ as follows:\n",
    "\n",
    "\\begin{align*}\n",
    "\\hat{e}\n",
    "    &= Y - X\\hat{\\beta}_{OLS} \\\\\n",
    "    &= Y - X(X^TX)^{-1}X^TY \\\\\n",
    "    &= (I_m - X(X^TX)^{-1}X^T)Y,\n",
    "\\end{align*}\n",
    "\n",
    "More simply:\n",
    "\n",
    "\\begin{equation}\n",
    "\\hat{e} = MY, \\qquad M \\equiv I_m - X(X^TX)^{-1}X^T.\n",
    "\\end{equation}\n",
    "\n",
    "Let's compute the expectation value of the covariance of residuals:\n",
    "\n",
    "\\begin{align*}\n",
    "\\mathbb{E}[\\hat{e}\\hat{e}^T]\n",
    "    &= M \\mathbb{E}[YY^T] M^T \\\\\n",
    "    &= M \\mathbb{E}[(X\\beta + \\epsilon)(\\beta^TX^T + \\epsilon^T)] M^T \\\\\n",
    "    &= M (X\\beta\\beta^TX^T + X\\beta\\mathbb{E}[\\epsilon]^T + \\mathbb{E}[\\epsilon]\\beta^TX^T + \\mathbb{E}[\\epsilon\\epsilon^T])M \\\\\n",
    "    &= (MX)(\\beta\\beta^T)(MX)^T + M\\Omega M^T \\\\\n",
    "    &= M\\Omega M,\n",
    "\\end{align*}\n",
    "\n",
    "where we have used $\\mathbb{E}[\\epsilon]=0$, $MX=0$, and $M=M^T$. Using this, we can compute the expectation value of the norm of the residuals:\n",
    "\n",
    "\\begin{equation}\n",
    "\\mathbb{E}[\\hat{e}^T\\hat{e}]\n",
    "    = \\text{tr}\\left(\\mathbb{E}[\\hat{e}\\hat{e}^T]\\right)\n",
    "    = \\text{tr}(M\\Omega M)\n",
    "    = \\text{tr}(M^2\\Omega)\n",
    "    = \\text{tr}(M\\Omega),\n",
    "\\end{equation}\n",
    "\n",
    "where the third equality follows from the linear algebra identity $\\text{tr}(AB)=\\text{tr}(BA)$ and the last equality follows from $M^2=M$. We can now determine if $\\hat{C}_{OLS}$ is biased or not:\n",
    "\n",
    "\\begin{align*}\n",
    "\\mathbb{E}[\\hat{C}_{OLS}]\n",
    "    &= \\frac{\\mathbb{E}[\\hat{e}^T\\hat{e}]}{m-n-1}(X^TX)^{-1} \\\\\n",
    "    &= \\frac{\\text{tr}(M\\Omega)}{m-n-1}(X^TX)^{-1}.\n",
    "\\end{align*}\n",
    "\n",
    "When $\\Omega = \\sigma^2 I$: $\\text{tr}(M\\Omega)=\\sigma^2\\text{tr}(M)=\\sigma^2(m-n-1)$, from which it follows that the covariance estimator is unbiased: $\\mathbb{E}[\\hat{C}_{OLS}] = \\sigma^2(X^TX)^{-1}=\\text{C}[\\hat{\\beta}_{OLS}]$. In the presence of heteroscedasticity, though, this will no longer hold:\n",
    "\n",
    "\\begin{align*}\n",
    "\\mathbb{E}[\\hat{C}_{OLS}]\n",
    "    &= \\frac{\\text{tr}(M\\Omega)}{m-n-1}(X^TX)^{-1} \\\\\n",
    "    &\\neq (X^TX)^{-1}X^T \\Omega X(X^TX)^{-1} \\\\\n",
    "    &= \\text{C}[\\hat{\\beta}_{OLS}].\n",
    "\\end{align*}\n",
    "\n",
    "In our example above, we came up with $\\Omega$ ourselves, so we can check this inequality:"
   ]
  },
  {
   "cell_type": "code",
   "execution_count": 13,
   "metadata": {},
   "outputs": [
    {
     "name": "stdout",
     "output_type": "stream",
     "text": [
      "Expectation value of the OLS covariance estimate\n",
      "------------------------------------------------\n",
      "[[ 0.0108881  -0.00806824]\n",
      " [-0.00806824  0.00795902]]\n",
      "\n",
      "Actual covariance of the OLS betas\n",
      "------------------------------------------------\n",
      "[[ 0.0041587  -0.00508216]\n",
      " [-0.00508216  0.00861837]]\n"
     ]
    }
   ],
   "source": [
    "XtX_inv = np.linalg.inv(X_het.T.dot(X_het))\n",
    "M = np.identity(m_het) - X_het.dot(XtX_inv).dot(X_het.T)\n",
    "Omega = np.diag(het_sigmas**2)\n",
    "\n",
    "print(\"Expectation value of the OLS covariance estimate\")\n",
    "print(\"------------------------------------------------\")\n",
    "print(np.trace(M.dot(Omega))/(m_het - 2) * XtX_inv)\n",
    "print(\"\")\n",
    "print(\"Actual covariance of the OLS betas\")\n",
    "print(\"------------------------------------------------\")\n",
    "print(XtX_inv.dot(X_het.T).dot(Omega).dot(X_het).dot(XtX_inv))"
   ]
  },
  {
   "cell_type": "markdown",
   "metadata": {},
   "source": [
    "To summarize, the OLS estimator $\\hat{\\beta}_{OLS}$ of regression parameters is unbiased, but the OLS estimator of their covariance $\\hat{C}_{OLS}$ is biased. Recall that the standard errors, confidence intervals, and t-tests we derived for OLS were assuming $\\hat{C}_{OLS}$ is unbiased. Therefore, in the presence of hederoscedasticity, $\\hat{C}_{OLS}$ may lead to confidence intervals that are either too liberal or conservative. In the example above, for instance, the standard error of $\\hat{\\beta}_0$ is overestimated by a factor of $\\sim 1.6$.\n",
    "\n",
    "What to do? This is where *[hederoscedastically-consistent](https://en.wikipedia.org/wiki/Heteroscedasticity-consistent_standard_errors)* (HC) estimators come in. They are a family of estimators that do a much better job than $\\hat{C}_{OLS}$. Let's assume that $\\Omega$ is diagonal, but that the diagonal elements are not the same (this is the case for our example above). Here's one HC estimator:\n",
    "\n",
    "\\begin{equation}\n",
    "\\hat{C}_{HC0} = (X^TX)^{-1}X^T\\hat{\\Omega}X(X^TX)^{-1}, \\qquad\n",
    "\\hat{\\Omega}_{ij} = \\hat{e}_i^2\\delta_{ij}.\n",
    "\\end{equation}\n",
    "\n",
    "This expression looks very similar to $C[\\hat{\\beta}_{OLS}]=(X^TX)^{-1}X^T \\Omega X(X^TX)^{-1}$, except that the unknown covariance matrix $\\Omega$ is now replaced by the diagonal matrix of squared residuals. Note that\n",
    "\n",
    "\\begin{equation}\n",
    "\\mathbb{E}[\\hat{C}_{HC0}] = (X^TX)^{-1}X^T \\mathbb{E}[\\hat{\\Omega}] X(X^TX)^{-1},\n",
    "\\end{equation}\n",
    "\n",
    "where\n",
    "\n",
    "\\begin{align*}\n",
    "\\mathbb{E}[\\hat{\\Omega}]_{ij}\n",
    "    &= \\mathbb{E}[\\hat{e}_i^2]\\delta_{ij} \\\\\n",
    "    &= [M \\Omega M]_{ii} \\delta_{ij}.\n",
    "\\end{align*}\n",
    "\n",
    "So if $[M \\Omega M]_{ii} \\approx \\Omega_{ii}$, $\\hat{C}_{HC0}$ will be very close to being unbiased, i.e. $\\mathbb{E}[ \\hat{C}_{HC0}] \\approx C[\\hat{\\beta}_{OLS}]$. Let's check this for our toy-example:"
   ]
  },
  {
   "cell_type": "code",
   "execution_count": 14,
   "metadata": {},
   "outputs": [
    {
     "name": "stdout",
     "output_type": "stream",
     "text": [
      "-----------Expectation value of HC0-------------\n"
     ]
    },
    {
     "data": {
      "text/plain": [
       "array([[ 0.00409909, -0.00496052],\n",
       "       [-0.00496052,  0.00838146]])"
      ]
     },
     "execution_count": 14,
     "metadata": {},
     "output_type": "execute_result"
    }
   ],
   "source": [
    "resid2_exp = np.diag(M.dot(Omega).dot(M))\n",
    "\n",
    "print(\"-----------Expectation value of HC0-------------\")\n",
    "XtX_inv.dot(X_het.T).dot(np.diag(resid2_exp)).dot(X_het).dot(XtX_inv)"
   ]
  },
  {
   "cell_type": "markdown",
   "metadata": {},
   "source": [
    "Notice how much closer $\\mathbb{E}[\\hat{C}_{HC0}]$ is to $C[\\hat{\\beta}_{OLS}]$ than $\\mathbb{E}[\\hat{C}_{OLS}]$! There are other such proposals (http://www.afhayes.com/public/BRM2007.pdf), where in each case $\\hat{\\Omega}$ is constructed differently:\n",
    "\n",
    "1. HC1:\n",
    "\\begin{equation}\n",
    "    \\hat{\\Omega}_{ij} = \\frac{m}{m-n-1}\\hat{e}_i^2\\delta_{ij}\n",
    "\\end{equation}\n",
    "\n",
    "2. HC2:\n",
    "\\begin{equation}\n",
    "    \\hat{\\Omega}_{ij} = \\frac{\\hat{e}_i^2}{1-H_{ii}}\\delta_{ij}, \\qquad\n",
    "    H \\equiv X(X^TX)^{-1}X^T.\n",
    "\\end{equation}\n",
    "\n",
    "3. HC2:\n",
    "\\begin{equation}\n",
    "    \\hat{\\Omega}_{ij} = \\frac{\\hat{e}_i^2}{(1-H_{ii})^2}\\delta_{ij}, \\qquad\n",
    "    H \\equiv X(X^TX)^{-1}X^T.\n",
    "\\end{equation}\n",
    "\n",
    "We can similarly compute $\\mathbb{E}[\\hat{C}_{HC1}]$, $\\mathbb{E}[\\hat{C}_{HC2}]$, and $\\mathbb{E}[\\hat{C}_{HC3}]$ by using $\\mathbb{E}[e_{i}^2] = [M\\Omega M]_{ii}$. Let's look at these for our toy example:"
   ]
  },
  {
   "cell_type": "code",
   "execution_count": 15,
   "metadata": {},
   "outputs": [
    {
     "name": "stdout",
     "output_type": "stream",
     "text": [
      "-----------Expectation value of HC1-------------\n",
      "[[ 0.00418275 -0.00506176]\n",
      " [-0.00506176  0.00855251]]\n",
      "\n",
      "-----------Expectation value of HC2-------------\n",
      "[[ 0.00419983 -0.00509732]\n",
      " [-0.00509732  0.00860822]]\n",
      "\n",
      "-----------Expectation value of HC3-------------\n",
      "[[ 0.00430339 -0.00523816]\n",
      " [-0.00523816  0.00884154]]\n"
     ]
    }
   ],
   "source": [
    "H_diag = np.diag(X_het.dot(XtX_inv).dot(X_het.T))\n",
    "\n",
    "print(\"-----------Expectation value of HC1-------------\")\n",
    "Omega_hc1_exp = np.diag(resid2_exp) * m_het / (m_het - 2)\n",
    "print(XtX_inv.dot(X_het.T).dot(Omega_hc1_exp).dot(X_het).dot(XtX_inv))\n",
    "\n",
    "print(\"\")\n",
    "\n",
    "print(\"-----------Expectation value of HC2-------------\")\n",
    "Omega_hc2_exp = np.diag(resid2_exp / (1 - H_diag))\n",
    "print(XtX_inv.dot(X_het.T).dot(Omega_hc2_exp).dot(X_het).dot(XtX_inv))\n",
    "\n",
    "print(\"\")\n",
    "\n",
    "print(\"-----------Expectation value of HC3-------------\")\n",
    "Omega_hc3_exp = np.diag(resid2_exp / (1 - H_diag)**2)\n",
    "print(XtX_inv.dot(X_het.T).dot(Omega_hc3_exp).dot(X_het).dot(XtX_inv))"
   ]
  },
  {
   "cell_type": "markdown",
   "metadata": {},
   "source": [
    "They all approximate $C[\\hat{\\beta}_{OLS}]$ very well, particularly HC2 in our specific example.\n",
    "\n",
    "`statsmodels` actually computes the various HC estimators for us:"
   ]
  },
  {
   "cell_type": "code",
   "execution_count": 16,
   "metadata": {},
   "outputs": [
    {
     "name": "stdout",
     "output_type": "stream",
     "text": [
      "-----------statsmodels HC0-------------\n",
      "[[ 0.00304848 -0.00352732]\n",
      " [-0.00352732  0.00629034]]\n",
      "-----------reproduced  HC0-------------\n",
      "[[ 0.00304848 -0.00352732]\n",
      " [-0.00352732  0.00629034]]\n",
      "\n",
      "-----------statsmodels HC1-------------\n",
      "[[ 0.00311069 -0.00359931]\n",
      " [-0.00359931  0.00641871]]\n",
      "-----------reproduced  HC1-------------\n",
      "[[ 0.00311069 -0.00359931]\n",
      " [-0.00359931  0.00641871]]\n",
      "\n",
      "-----------statsmodels HC2-------------\n",
      "[[ 0.00311246 -0.00361205]\n",
      " [-0.00361205  0.00643999]]\n",
      "-----------reproduced  HC2-------------\n",
      "[[ 0.00311246 -0.00361205]\n",
      " [-0.00361205  0.00643999]]\n",
      "\n",
      "-----------statsmodels HC3-------------\n",
      "[[ 0.00317797 -0.00369894]\n",
      " [-0.00369894  0.00659339]]\n",
      "-----------reproduced HC3--------------\n",
      "[[ 0.00317797 -0.00369894]\n",
      " [-0.00369894  0.00659339]]\n"
     ]
    }
   ],
   "source": [
    "print(\"-----------statsmodels HC0-------------\")\n",
    "print(model_het.cov_HC0)\n",
    "print(\"-----------reproduced  HC0-------------\")\n",
    "Omega_hc0 = np.diag(model_het.resid**2)\n",
    "print(XtX_inv.dot(X_het.T).dot(Omega_hc0).dot(X_het).dot(XtX_inv))\n",
    "\n",
    "print(\"\")\n",
    "\n",
    "print(\"-----------statsmodels HC1-------------\")\n",
    "print(model_het.cov_HC1)\n",
    "print(\"-----------reproduced  HC1-------------\")\n",
    "Omega_hc1 = np.diag(model_het.resid**2) * m_het / (m_het - 2)\n",
    "print(XtX_inv.dot(X_het.T).dot(Omega_hc1).dot(X_het).dot(XtX_inv))\n",
    "\n",
    "print(\"\")\n",
    "\n",
    "print(\"-----------statsmodels HC2-------------\")\n",
    "print(model_het.cov_HC2)\n",
    "print(\"-----------reproduced  HC2-------------\")\n",
    "Omega_hc2 = np.diag(model_het.resid**2 / (1 - H_diag))\n",
    "print(XtX_inv.dot(X_het.T).dot(Omega_hc2).dot(X_het).dot(XtX_inv))\n",
    "\n",
    "print(\"\")\n",
    "\n",
    "print(\"-----------statsmodels HC3-------------\")\n",
    "print(model_het.cov_HC3)\n",
    "print(\"-----------reproduced HC3--------------\")\n",
    "Omega_hc3 = np.diag(model_het.resid**2 / (1 - H_diag)**2)\n",
    "print(XtX_inv.dot(X_het.T).dot(Omega_hc3).dot(X_het).dot(XtX_inv))"
   ]
  },
  {
   "cell_type": "markdown",
   "metadata": {},
   "source": [
    "Let's compare the model summary using OLS error estimates v.s. HC1:"
   ]
  },
  {
   "cell_type": "code",
   "execution_count": 17,
   "metadata": {},
   "outputs": [
    {
     "name": "stdout",
     "output_type": "stream",
     "text": [
      "************* Model summary using OLS error estimates *************\n"
     ]
    },
    {
     "data": {
      "text/html": [
       "<table class=\"simpletable\">\n",
       "<caption>OLS Regression Results</caption>\n",
       "<tr>\n",
       "  <th>Dep. Variable:</th>            <td>y</td>        <th>  R-squared:         </th> <td>   0.854</td>\n",
       "</tr>\n",
       "<tr>\n",
       "  <th>Model:</th>                   <td>OLS</td>       <th>  Adj. R-squared:    </th> <td>   0.852</td>\n",
       "</tr>\n",
       "<tr>\n",
       "  <th>Method:</th>             <td>Least Squares</td>  <th>  F-statistic:       </th> <td>   572.8</td>\n",
       "</tr>\n",
       "<tr>\n",
       "  <th>Date:</th>             <td>Thu, 28 Mar 2019</td> <th>  Prob (F-statistic):</th> <td>1.01e-42</td>\n",
       "</tr>\n",
       "<tr>\n",
       "  <th>Time:</th>                 <td>19:52:41</td>     <th>  Log-Likelihood:    </th> <td> -69.723</td>\n",
       "</tr>\n",
       "<tr>\n",
       "  <th>No. Observations:</th>      <td>   100</td>      <th>  AIC:               </th> <td>   143.4</td>\n",
       "</tr>\n",
       "<tr>\n",
       "  <th>Df Residuals:</th>          <td>    98</td>      <th>  BIC:               </th> <td>   148.7</td>\n",
       "</tr>\n",
       "<tr>\n",
       "  <th>Df Model:</th>              <td>     1</td>      <th>                     </th>     <td> </td>   \n",
       "</tr>\n",
       "<tr>\n",
       "  <th>Covariance Type:</th>      <td>nonrobust</td>    <th>                     </th>     <td> </td>   \n",
       "</tr>\n",
       "</table>\n",
       "<table class=\"simpletable\">\n",
       "<tr>\n",
       "    <td></td>       <th>coef</th>     <th>std err</th>      <th>t</th>      <th>P>|t|</th>  <th>[0.025</th>    <th>0.975]</th>  \n",
       "</tr>\n",
       "<tr>\n",
       "  <th>const</th> <td>    0.2537</td> <td>    0.098</td> <td>    2.578</td> <td> 0.011</td> <td>    0.058</td> <td>    0.449</td>\n",
       "</tr>\n",
       "<tr>\n",
       "  <th>x1</th>    <td>    2.0136</td> <td>    0.084</td> <td>   23.933</td> <td> 0.000</td> <td>    1.847</td> <td>    2.181</td>\n",
       "</tr>\n",
       "</table>\n",
       "<table class=\"simpletable\">\n",
       "<tr>\n",
       "  <th>Omnibus:</th>       <td> 4.705</td> <th>  Durbin-Watson:     </th> <td>   2.079</td>\n",
       "</tr>\n",
       "<tr>\n",
       "  <th>Prob(Omnibus):</th> <td> 0.095</td> <th>  Jarque-Bera (JB):  </th> <td>   6.299</td>\n",
       "</tr>\n",
       "<tr>\n",
       "  <th>Skew:</th>          <td>-0.057</td> <th>  Prob(JB):          </th> <td>  0.0429</td>\n",
       "</tr>\n",
       "<tr>\n",
       "  <th>Kurtosis:</th>      <td> 4.224</td> <th>  Cond. No.          </th> <td>    3.80</td>\n",
       "</tr>\n",
       "</table><br/><br/>Warnings:<br/>[1] Standard Errors assume that the covariance matrix of the errors is correctly specified."
      ],
      "text/plain": [
       "<class 'statsmodels.iolib.summary.Summary'>\n",
       "\"\"\"\n",
       "                            OLS Regression Results                            \n",
       "==============================================================================\n",
       "Dep. Variable:                      y   R-squared:                       0.854\n",
       "Model:                            OLS   Adj. R-squared:                  0.852\n",
       "Method:                 Least Squares   F-statistic:                     572.8\n",
       "Date:                Thu, 28 Mar 2019   Prob (F-statistic):           1.01e-42\n",
       "Time:                        19:52:41   Log-Likelihood:                -69.723\n",
       "No. Observations:                 100   AIC:                             143.4\n",
       "Df Residuals:                      98   BIC:                             148.7\n",
       "Df Model:                           1                                         \n",
       "Covariance Type:            nonrobust                                         \n",
       "==============================================================================\n",
       "                 coef    std err          t      P>|t|      [0.025      0.975]\n",
       "------------------------------------------------------------------------------\n",
       "const          0.2537      0.098      2.578      0.011       0.058       0.449\n",
       "x1             2.0136      0.084     23.933      0.000       1.847       2.181\n",
       "==============================================================================\n",
       "Omnibus:                        4.705   Durbin-Watson:                   2.079\n",
       "Prob(Omnibus):                  0.095   Jarque-Bera (JB):                6.299\n",
       "Skew:                          -0.057   Prob(JB):                       0.0429\n",
       "Kurtosis:                       4.224   Cond. No.                         3.80\n",
       "==============================================================================\n",
       "\n",
       "Warnings:\n",
       "[1] Standard Errors assume that the covariance matrix of the errors is correctly specified.\n",
       "\"\"\""
      ]
     },
     "execution_count": 17,
     "metadata": {},
     "output_type": "execute_result"
    }
   ],
   "source": [
    "print(\"************* Model summary using OLS error estimates *************\")\n",
    "model_het.summary()"
   ]
  },
  {
   "cell_type": "code",
   "execution_count": 18,
   "metadata": {},
   "outputs": [
    {
     "name": "stdout",
     "output_type": "stream",
     "text": [
      "************* Model summary using HC1 error estimates *************\n"
     ]
    },
    {
     "data": {
      "text/html": [
       "<table class=\"simpletable\">\n",
       "<caption>OLS Regression Results</caption>\n",
       "<tr>\n",
       "  <th>Dep. Variable:</th>            <td>y</td>        <th>  R-squared:         </th> <td>   0.854</td>\n",
       "</tr>\n",
       "<tr>\n",
       "  <th>Model:</th>                   <td>OLS</td>       <th>  Adj. R-squared:    </th> <td>   0.852</td>\n",
       "</tr>\n",
       "<tr>\n",
       "  <th>Method:</th>             <td>Least Squares</td>  <th>  F-statistic:       </th> <td>   631.7</td>\n",
       "</tr>\n",
       "<tr>\n",
       "  <th>Date:</th>             <td>Thu, 28 Mar 2019</td> <th>  Prob (F-statistic):</th> <td>1.63e-44</td>\n",
       "</tr>\n",
       "<tr>\n",
       "  <th>Time:</th>                 <td>19:52:41</td>     <th>  Log-Likelihood:    </th> <td> -69.723</td>\n",
       "</tr>\n",
       "<tr>\n",
       "  <th>No. Observations:</th>      <td>   100</td>      <th>  AIC:               </th> <td>   143.4</td>\n",
       "</tr>\n",
       "<tr>\n",
       "  <th>Df Residuals:</th>          <td>    98</td>      <th>  BIC:               </th> <td>   148.7</td>\n",
       "</tr>\n",
       "<tr>\n",
       "  <th>Df Model:</th>              <td>     1</td>      <th>                     </th>     <td> </td>   \n",
       "</tr>\n",
       "<tr>\n",
       "  <th>Covariance Type:</th>         <td>HC1</td>       <th>                     </th>     <td> </td>   \n",
       "</tr>\n",
       "</table>\n",
       "<table class=\"simpletable\">\n",
       "<tr>\n",
       "    <td></td>       <th>coef</th>     <th>std err</th>      <th>z</th>      <th>P>|z|</th>  <th>[0.025</th>    <th>0.975]</th>  \n",
       "</tr>\n",
       "<tr>\n",
       "  <th>const</th> <td>    0.2537</td> <td>    0.056</td> <td>    4.549</td> <td> 0.000</td> <td>    0.144</td> <td>    0.363</td>\n",
       "</tr>\n",
       "<tr>\n",
       "  <th>x1</th>    <td>    2.0136</td> <td>    0.080</td> <td>   25.133</td> <td> 0.000</td> <td>    1.857</td> <td>    2.171</td>\n",
       "</tr>\n",
       "</table>\n",
       "<table class=\"simpletable\">\n",
       "<tr>\n",
       "  <th>Omnibus:</th>       <td> 4.705</td> <th>  Durbin-Watson:     </th> <td>   2.079</td>\n",
       "</tr>\n",
       "<tr>\n",
       "  <th>Prob(Omnibus):</th> <td> 0.095</td> <th>  Jarque-Bera (JB):  </th> <td>   6.299</td>\n",
       "</tr>\n",
       "<tr>\n",
       "  <th>Skew:</th>          <td>-0.057</td> <th>  Prob(JB):          </th> <td>  0.0429</td>\n",
       "</tr>\n",
       "<tr>\n",
       "  <th>Kurtosis:</th>      <td> 4.224</td> <th>  Cond. No.          </th> <td>    3.80</td>\n",
       "</tr>\n",
       "</table><br/><br/>Warnings:<br/>[1] Standard Errors are heteroscedasticity robust (HC1)"
      ],
      "text/plain": [
       "<class 'statsmodels.iolib.summary.Summary'>\n",
       "\"\"\"\n",
       "                            OLS Regression Results                            \n",
       "==============================================================================\n",
       "Dep. Variable:                      y   R-squared:                       0.854\n",
       "Model:                            OLS   Adj. R-squared:                  0.852\n",
       "Method:                 Least Squares   F-statistic:                     631.7\n",
       "Date:                Thu, 28 Mar 2019   Prob (F-statistic):           1.63e-44\n",
       "Time:                        19:52:41   Log-Likelihood:                -69.723\n",
       "No. Observations:                 100   AIC:                             143.4\n",
       "Df Residuals:                      98   BIC:                             148.7\n",
       "Df Model:                           1                                         \n",
       "Covariance Type:                  HC1                                         \n",
       "==============================================================================\n",
       "                 coef    std err          z      P>|z|      [0.025      0.975]\n",
       "------------------------------------------------------------------------------\n",
       "const          0.2537      0.056      4.549      0.000       0.144       0.363\n",
       "x1             2.0136      0.080     25.133      0.000       1.857       2.171\n",
       "==============================================================================\n",
       "Omnibus:                        4.705   Durbin-Watson:                   2.079\n",
       "Prob(Omnibus):                  0.095   Jarque-Bera (JB):                6.299\n",
       "Skew:                          -0.057   Prob(JB):                       0.0429\n",
       "Kurtosis:                       4.224   Cond. No.                         3.80\n",
       "==============================================================================\n",
       "\n",
       "Warnings:\n",
       "[1] Standard Errors are heteroscedasticity robust (HC1)\n",
       "\"\"\""
      ]
     },
     "execution_count": 18,
     "metadata": {},
     "output_type": "execute_result"
    }
   ],
   "source": [
    "model_hc1 = regression.linear_model.OLS(y_het, X_het).fit(cov_type=\"HC1\")\n",
    "\n",
    "print(\"************* Model summary using HC1 error estimates *************\")\n",
    "model_hc1.summary()"
   ]
  },
  {
   "cell_type": "markdown",
   "metadata": {},
   "source": [
    "Note that the $2.5\\% \\to 97.5\\%$ HC1 confidence interval for $\\hat{\\beta}_0$ is much tighter: $(0.144, 0.363)$ vs $(0.058, 0.449)$. The discrepancy for $\\hat{\\beta}_1$ is not as pronounced.\n",
    "\n",
    "The HC1 confidence intervals can be reproduced as follows:"
   ]
  },
  {
   "cell_type": "code",
   "execution_count": 19,
   "metadata": {},
   "outputs": [
    {
     "name": "stdout",
     "output_type": "stream",
     "text": [
      "statsmodels Beta_0 95% confidence interval = (0.144415810171, 0.36304422975)\n",
      "Reproduced  Beta_0 95% confidence interval = (0.144415810171, 0.36304422975)\n",
      "\n",
      "statsmodels Beta_1 95% confidence interval = (1.8565358768, 2.17058821019)\n",
      "Reproduced  Beta_1 95% confidence interval = (1.8565358768, 2.17058821019)\n",
      "\n"
     ]
    }
   ],
   "source": [
    "statsmodels_ci = model_hc1.conf_int()\n",
    "z = stats.norm.ppf(1 - 0.05/2.)\n",
    "\n",
    "for i, beta_ in enumerate(model_hc1.params):\n",
    "    beta_se = np.sqrt(model_hc1.cov_params()[i, i])\n",
    "    print(\"statsmodels Beta_{0} 95% confidence interval = ({1}, {2})\".format(\n",
    "        i,\n",
    "        statsmodels_ci[i, 0], statsmodels_ci[i, 1]\n",
    "    ))\n",
    "    print(\"Reproduced  Beta_{0} 95% confidence interval = ({1}, {2})\".format(\n",
    "        i,\n",
    "        beta_ - z*beta_se, beta_ + z*beta_se\n",
    "    ))\n",
    "    print(\"\")"
   ]
  },
  {
   "cell_type": "markdown",
   "metadata": {},
   "source": [
    "Notice that unlike OLS, the normal distribution is used instead of the t-distribution with $m-2$ degrees of freedom. The difference, though, is pretty small in thise case, since there are $100$ examples. The t-values can also be reproduced as follows:"
   ]
  },
  {
   "cell_type": "code",
   "execution_count": 20,
   "metadata": {},
   "outputs": [
    {
     "name": "stdout",
     "output_type": "stream",
     "text": [
      "statsmodels Beta_0 t-value = 4.54928688481\n",
      "Reproduced  Beta_0 t-value = 4.54928688481\n",
      "\n",
      "statsmodels Beta_1 t-value = 25.1328117402\n",
      "Reproduced  Beta_1 t-value = 25.1328117402\n",
      "\n"
     ]
    }
   ],
   "source": [
    "for i in range(len(model_hc1.params)):\n",
    "    print(\"statsmodels Beta_{0} t-value = {1}\".format(i, model_hc1.tvalues[i]))\n",
    "    print(\"Reproduced  Beta_{0} t-value = {1}\".format(\n",
    "        i,\n",
    "        model_hc1.params[i] / np.sqrt(model_hc1.cov_params()[i, i])\n",
    "    ))\n",
    "    print(\"\")"
   ]
  },
  {
   "cell_type": "markdown",
   "metadata": {},
   "source": [
    "Again, the corresponding p-values come from the normal distribution, and not the t-distribution:"
   ]
  },
  {
   "cell_type": "code",
   "execution_count": 21,
   "metadata": {},
   "outputs": [
    {
     "name": "stdout",
     "output_type": "stream",
     "text": [
      "statsmodels Beta_0 p-value = 5.38280171761e-06\n",
      "Reproduced  Beta_0 p-value = 5.38280171761e-06\n",
      "\n",
      "statsmodels Beta_1 p-value = 2.17857814744e-139\n",
      "Reproduced  Beta_1 p-value = 2.17857814744e-139\n",
      "\n"
     ]
    }
   ],
   "source": [
    "for i in range(len(model_hc1.params)):\n",
    "    print(\"statsmodels Beta_{0} p-value = {1}\".format(i, model_hc1.pvalues[i]))\n",
    "    print(\"Reproduced  Beta_{0} p-value = {1}\".format(\n",
    "        i,\n",
    "        2*stats.norm.cdf(-abs(model_hc1.tvalues[i]))\n",
    "    ))\n",
    "    print(\"\")"
   ]
  },
  {
   "cell_type": "markdown",
   "metadata": {},
   "source": [
    "Our [derivation](https://nbviewer.jupyter.org/github/siavashaslanbeigi/stats_notes/blob/master/multi_linreg.ipynb) of the F-test is also impacted by heteroscedasticity. Recall that the null-hypothesis is given by the matrix equation\n",
    "\n",
    "\\begin{equation}\n",
    "R\\beta = r,\n",
    "\\end{equation}\n",
    "\n",
    "where $R$ is a $q \\times (n+1)$ full-rank matrix and $r$ is a $q$-dimensional vector. Let \n",
    "\n",
    "\\begin{equation}\n",
    "B \\equiv R C_{OLS} R^T, \\qquad\n",
    "W \\equiv B^{-1/2}R(\\hat{\\beta} - \\beta),\n",
    "\\end{equation}\n",
    "\n",
    "where $C_{OLS} \\equiv C[\\hat{\\beta}_{OLS}]=(X^TX)^{-1}X^T \\Omega X(X^TX)^{-1}$. Then\n",
    "\n",
    "\\begin{align*}\n",
    "\\mathbb{E}[WW^T]\n",
    "    &= B^{-1/2}R \\mathbb{E}[(\\hat{\\beta} - \\beta)(\\hat{\\beta} - \\beta)^T] R^T B^{-1/2} \\\\\n",
    "    &= B^{-1/2}[R C_{OLS} R^T]B^{-1/2} \\\\\n",
    "    &= B^{-1/2}BB^{-1/2} \\\\\n",
    "    &= I_q.\n",
    "\\end{align*}\n",
    "\n",
    "Therefore, $W$ is a $q$-dimensional vector of independent standard normals, which in turn implies that $W^TW \\sim \\chi^2_{q}$:\n",
    "\n",
    "\\begin{align*}\n",
    "W^TW\n",
    "    &= (R\\hat{\\beta} - R\\beta)^TB^{-1/2}B^{-1/2}(R\\hat{\\beta} - R\\beta) \\\\\n",
    "    &= (R\\hat{\\beta} - r)^TB^{-1}(R\\hat{\\beta} - r) \\\\\n",
    "    &= (R\\hat{\\beta} - r)^T\\left[R C_{OLS} R^T\\right]^{-1}(R\\hat{\\beta} - r).\n",
    "\\end{align*}\n",
    "\n",
    "Of course, we don't know $C_{OLS}$, so we have to estimate it from the data. Suppose we have homoscedastic errors, i.e. $\\Omega = \\sigma^2 I$. Let's see what happens if we substitute $\\hat{C}_{OLS}$ instead of $C_{OLS}$:\n",
    "\n",
    "\\begin{align*}\n",
    "(R\\hat{\\beta} - r)^T\\left[R \\hat{C}_{OLS} R^T\\right]^{-1}(R\\hat{\\beta} - r)\n",
    "    &= (R\\hat{\\beta} - r)^T\\left[R \\left(\\frac{\\hat{e}^T\\hat{e}}{m-n-1}(X^TX)^{-1}\\right) R^T\\right]^{-1}(R\\hat{\\beta} - r) \\\\\n",
    "    &= \\frac{(R\\hat{\\beta} - r)^T\\left[R (X^TX)^{-1} R^T\\right]^{-1}(R\\hat{\\beta} - r)}{\\hat{e}^T\\hat{e}/(m-n-1)} \\\\\n",
    "    &= q f_{OLS},\n",
    "\\end{align*}\n",
    "\n",
    "where $f_{OLS}$ is the F-statistic we derived for OLS. This result suggests the following test-statistic in the presence of heteroscedasticity:\n",
    "\n",
    "\\begin{equation}\n",
    "f_{HC} = (R\\hat{\\beta} - r)^T\\left[R \\hat{C}_{HC} R^T\\right]^{-1}(R\\hat{\\beta} - r) / q,\n",
    "\\end{equation}\n",
    "\n",
    "where $\\hat{C}_{HC}$ is some heteroscedastically-consistent estimate of the covariance matrix. This is indeed what `statsmodels` reports:"
   ]
  },
  {
   "cell_type": "code",
   "execution_count": 22,
   "metadata": {},
   "outputs": [
    {
     "name": "stdout",
     "output_type": "stream",
     "text": [
      "statsmodels F-statistic = 631.65822597\n",
      "Reproduced  F-statistic = 631.65822597\n"
     ]
    }
   ],
   "source": [
    "e_hc1 = y_het - X_het.dot(model_hc1.params)\n",
    "R = np.column_stack((np.zeros(p_het - 1), np.identity(p_het - 1)))\n",
    "R_beta = R.dot(model_hc1.params)\n",
    "\n",
    "ftest = R_beta.T.dot(np.linalg.inv(R.dot(model_hc1.cov_params()).dot(R.T))).dot(R_beta) / R.shape[0]\n",
    "print(\"statsmodels F-statistic = {}\".format(model_hc1.fvalue[0, 0]))\n",
    "print(\"Reproduced  F-statistic = {}\".format(ftest))"
   ]
  },
  {
   "cell_type": "markdown",
   "metadata": {},
   "source": [
    "Recall that the null hypothesis being tested here is $\\beta_1=\\dots=\\beta_n$=0, which is equivalent to $R = [0_{n \\times 1} I_{n \\times n}]$ and $r = 0_{n \\times 1}$.\n",
    "\n",
    "Let's try another F-test, this time using:\n",
    "\n",
    "\\begin{equation}\n",
    "R = \\begin{pmatrix}\n",
    "    2 & -0.3\n",
    "\\end{pmatrix}, \\qquad\n",
    "r = 0.\n",
    "\\end{equation}\n",
    "\n",
    "This is equivalent to testing the null hypothesis $2\\beta_0 - 0.3\\beta_1 = 0$, which is actually true for the example we've been considering."
   ]
  },
  {
   "cell_type": "code",
   "execution_count": 23,
   "metadata": {},
   "outputs": [
    {
     "name": "stdout",
     "output_type": "stream",
     "text": [
      "statsmodels F-statistic = 0.538259462364\n",
      "Reproduced  F-statistic = 0.538259462364\n",
      "\n",
      "statsmodels F-test p-value = 0.464906507504\n",
      "Reproduced  F-test p-value = 0.464906507504\n"
     ]
    }
   ],
   "source": [
    "R2 = np.array([[2, -0.3]])\n",
    "R2_beta = R2.dot(model_hc1.params)\n",
    "\n",
    "statsmodels_f2 = model_hc1.f_test(R2)\n",
    "ftest2 = R2_beta.T.dot(np.linalg.inv(R2.dot(model_hc1.cov_params()).dot(R2.T))).dot(R2_beta) / R2.shape[0]\n",
    "print(\"statsmodels F-statistic = {}\".format(statsmodels_f2.fvalue[0, 0]))\n",
    "print(\"Reproduced  F-statistic = {}\".format(ftest2))\n",
    "print(\"\")\n",
    "print(\"statsmodels F-test p-value = {}\".format(statsmodels_f2.pvalue))\n",
    "print(\"Reproduced  F-test p-value = {}\".format(1 - stats.f.cdf(ftest2, R2.shape[0], m_het - p_het)))"
   ]
  },
  {
   "cell_type": "markdown",
   "metadata": {},
   "source": [
    "Excellent, we're also able to reproduce the p-value. When errors are homoscedastic and normally distributed, we know that $f_{OLS} \\sim F_{q, m-n-1}$. What about $f_{HC}$? Let's verify this by running simulations: "
   ]
  },
  {
   "cell_type": "code",
   "execution_count": 24,
   "metadata": {},
   "outputs": [
    {
     "data": {
      "image/png": "[encoded data removed]",
      "text/plain": [
       "<matplotlib.figure.Figure at 0x10bc54ed0>"
      ]
     },
     "metadata": {},
     "output_type": "display_data"
    }
   ],
   "source": [
    "# Number of times to compute t values\n",
    "fvals = []\n",
    "\n",
    "for i in range(10000):\n",
    "    # Simulate y\n",
    "    y_ = X_het.dot(betas_het) + het_sigmas * np.random.normal(size=m_het)\n",
    "    # Fit model\n",
    "    model_ = regression.linear_model.OLS(y_, X_het).fit(cov_type=\"HC1\")\n",
    "    fval_ = model_.f_test(R2)\n",
    "    fvals.append(fval_.fvalue[0, 0])\n",
    "\n",
    "# Plot results\n",
    "fx = np.linspace(0.1, max(fvals), 100)\n",
    "plt.plot(fx, stats.f.pdf(fx, R2.shape[0], m_het - p_het), label=r\"$F_{1,98}$\")\n",
    "plt.hist(fvals, bins=100, normed=True)\n",
    "plt.title(\"Empirical distribution of \" + r\"$f_{HC}$\")\n",
    "plt.legend();"
   ]
  },
  {
   "cell_type": "markdown",
   "metadata": {},
   "source": [
    "Looks good! Of course, this is not a mathematical proof."
   ]
  }
 ],
 "metadata": {
  "kernelspec": {
   "display_name": "Python 2",
   "language": "python",
   "name": "python2"
  },
  "language_info": {
   "codemirror_mode": {
    "name": "ipython",
    "version": 2
   },
   "file_extension": ".py",
   "mimetype": "text/x-python",
   "name": "python",
   "nbconvert_exporter": "python",
   "pygments_lexer": "ipython2",
   "version": "2.7.10"
  }
 },
 "nbformat": 4,
 "nbformat_minor": 2
}
