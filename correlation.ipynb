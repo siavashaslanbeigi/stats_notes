{
 "cells": [
  {
   "cell_type": "markdown",
   "metadata": {},
   "source": [
    "## Correlation of price vs return"
   ]
  },
  {
   "cell_type": "code",
   "execution_count": 1,
   "metadata": {},
   "outputs": [],
   "source": [
    "import numpy as np\n",
    "import pandas as pd\n",
    "import matplotlib.pylab as plt\n",
    "from __future__ import division"
   ]
  },
  {
   "cell_type": "markdown",
   "metadata": {},
   "source": [
    "Let's create three fake asset prices that are correlated."
   ]
  },
  {
   "cell_type": "code",
   "execution_count": 2,
   "metadata": {},
   "outputs": [
    {
     "data": {
      "image/png": "[encoded data removed]",
      "text/plain": [
       "<matplotlib.figure.Figure at 0x1113f0e10>"
      ]
     },
     "metadata": {},
     "output_type": "display_data"
    }
   ],
   "source": [
    "# Log returns generated from the standard normal distribution.\n",
    "# I've hardcoded these so results are reproducible.\n",
    "log_returns = np.array([\n",
    "    -0.17110692, +0.84823544, -0.30048295, +0.12073905,\n",
    "    +0.11402267, -1.01943574, -0.81256609, +0.70153254,\n",
    "    +0.87145775, -1.44572583, +1.21312518, -0.72748137\n",
    "])\n",
    "\n",
    "# Create price from returns, starting from $1, and given\n",
    "# an average rate of return (drift)\n",
    "def price(mu, log_r):\n",
    "    # We will generate prices for 12 months, assuming\n",
    "    # a volatility of 20%.\n",
    "    sigma = 0.2\n",
    "    dt = 1/len(log_r)\n",
    "    \n",
    "    # Generate price using geometric brownina motion\n",
    "    s = np.exp(np.cumsum((mu - sigma**2/2.)*dt + sigma*np.sqrt(dt)*log_r))\n",
    "    return np.insert(s, 0, 1)\n",
    "\n",
    "# Generate stock prices\n",
    "prices = pd.DataFrame({\n",
    "    \"A\": price(0.5, log_returns),\n",
    "    \"B\": price(0.5, -1 * log_returns),\n",
    "    \"C\": price(-0.3, log_returns)\n",
    "})\n",
    "\n",
    "prices.plot()\n",
    "plt.ylabel('Price')\n",
    "plt.xlabel('Time (months)');"
   ]
  },
  {
   "cell_type": "markdown",
   "metadata": {},
   "source": [
    "### Puzzle\n",
    "\n",
    "At first glance, it seems like stocks A and B are positively correlated, since they are moving together, and stocks A and C are negatively correlated, since they are moving in opposite directions. Let's look at the correlation of prices:"
   ]
  },
  {
   "cell_type": "code",
   "execution_count": 3,
   "metadata": {},
   "outputs": [
    {
     "data": {
      "text/html": [
       "<div>\n",
       "<style scoped>\n",
       "    .dataframe tbody tr th:only-of-type {\n",
       "        vertical-align: middle;\n",
       "    }\n",
       "\n",
       "    .dataframe tbody tr th {\n",
       "        vertical-align: top;\n",
       "    }\n",
       "\n",
       "    .dataframe thead th {\n",
       "        text-align: right;\n",
       "    }\n",
       "</style>\n",
       "<table border=\"1\" class=\"dataframe\">\n",
       "  <thead>\n",
       "    <tr style=\"text-align: right;\">\n",
       "      <th></th>\n",
       "      <th>A</th>\n",
       "      <th>B</th>\n",
       "      <th>C</th>\n",
       "    </tr>\n",
       "  </thead>\n",
       "  <tbody>\n",
       "    <tr>\n",
       "      <th>A</th>\n",
       "      <td>1.000000</td>\n",
       "      <td>0.910096</td>\n",
       "      <td>-0.879717</td>\n",
       "    </tr>\n",
       "    <tr>\n",
       "      <th>B</th>\n",
       "      <td>0.910096</td>\n",
       "      <td>1.000000</td>\n",
       "      <td>-0.992554</td>\n",
       "    </tr>\n",
       "    <tr>\n",
       "      <th>C</th>\n",
       "      <td>-0.879717</td>\n",
       "      <td>-0.992554</td>\n",
       "      <td>1.000000</td>\n",
       "    </tr>\n",
       "  </tbody>\n",
       "</table>\n",
       "</div>"
      ],
      "text/plain": [
       "          A         B         C\n",
       "A  1.000000  0.910096 -0.879717\n",
       "B  0.910096  1.000000 -0.992554\n",
       "C -0.879717 -0.992554  1.000000"
      ]
     },
     "execution_count": 3,
     "metadata": {},
     "output_type": "execute_result"
    }
   ],
   "source": [
    "prices.corr()"
   ]
  },
  {
   "cell_type": "markdown",
   "metadata": {},
   "source": [
    "This confirms our intuition. Now, let's look at the correlation of log returns ($log(S_1/S_0)$ is often quite close to the percentage return $(S_1 - S_0)/S_0$, which is more commonly used):"
   ]
  },
  {
   "cell_type": "code",
   "execution_count": 4,
   "metadata": {},
   "outputs": [
    {
     "data": {
      "text/html": [
       "<div>\n",
       "<style scoped>\n",
       "    .dataframe tbody tr th:only-of-type {\n",
       "        vertical-align: middle;\n",
       "    }\n",
       "\n",
       "    .dataframe tbody tr th {\n",
       "        vertical-align: top;\n",
       "    }\n",
       "\n",
       "    .dataframe thead th {\n",
       "        text-align: right;\n",
       "    }\n",
       "</style>\n",
       "<table border=\"1\" class=\"dataframe\">\n",
       "  <thead>\n",
       "    <tr style=\"text-align: right;\">\n",
       "      <th></th>\n",
       "      <th>A</th>\n",
       "      <th>B</th>\n",
       "      <th>C</th>\n",
       "    </tr>\n",
       "  </thead>\n",
       "  <tbody>\n",
       "    <tr>\n",
       "      <th>A</th>\n",
       "      <td>1.0</td>\n",
       "      <td>-1.0</td>\n",
       "      <td>1.0</td>\n",
       "    </tr>\n",
       "    <tr>\n",
       "      <th>B</th>\n",
       "      <td>-1.0</td>\n",
       "      <td>1.0</td>\n",
       "      <td>-1.0</td>\n",
       "    </tr>\n",
       "    <tr>\n",
       "      <th>C</th>\n",
       "      <td>1.0</td>\n",
       "      <td>-1.0</td>\n",
       "      <td>1.0</td>\n",
       "    </tr>\n",
       "  </tbody>\n",
       "</table>\n",
       "</div>"
      ],
      "text/plain": [
       "     A    B    C\n",
       "A  1.0 -1.0  1.0\n",
       "B -1.0  1.0 -1.0\n",
       "C  1.0 -1.0  1.0"
      ]
     },
     "execution_count": 4,
     "metadata": {},
     "output_type": "execute_result"
    }
   ],
   "source": [
    "returns = np.log(prices).diff()[1:]\n",
    "returns.corr()"
   ]
  },
  {
   "cell_type": "markdown",
   "metadata": {},
   "source": [
    "What in the world? It's telling us that A and B are perfectly anti-correlated ($\\rho = -1$), and A and C are perfectly correlated ($\\rho = +1$). This is the exact opposite of what we saw from the prices. What is going on?\n",
    "\n",
    "Another thing that's counter-inuitive is that we normally think about positive correlation as assets moving together in the same direction. Looking at A and C from $t=0$ to $t=1$, we see that A increases by about $+3.0\\%$, while B decreases by about $-3.7\\%$. How can this happen when A and C's returns are perfectly correlated?"
   ]
  },
  {
   "cell_type": "markdown",
   "metadata": {},
   "source": [
    "### Resolution\n",
    "\n",
    "Let's remember how the correlation between two random variables $X$ and $Y$ is defined:\n",
    "\n",
    "\\begin{equation}\n",
    "\\rho_{XY} = \\frac{\\mathbb{E}[(X-\\mu_X)(Y-\\mu_Y)]}{\\sigma_X\\sigma_Y}\n",
    "\\end{equation}\n",
    "\n",
    "where\n",
    "\\begin{equation}\n",
    "\\mu_X = \\mathbb{E}[X], \\qquad\n",
    "\\sigma_X = \\mathbb{E}[(X - \\mu_X)^2],\n",
    "\\end{equation}\n",
    "and similary for $Y$. Another way to write this is in terms of the standardized data:\n",
    "\n",
    "\\begin{equation}\n",
    "\\rho_{XY} = \\mathbb{E}[Z_XZ_Y]\n",
    "\\end{equation}\n",
    "where\n",
    "\\begin{equation}\n",
    "Z_X = \\frac{X - \\mu_X}{\\sigma_X}, \\qquad\n",
    "Z_Y = \\frac{Y - \\mu_Y}{\\sigma_Y}.\n",
    "\\end{equation}\n",
    "\n",
    "Let's look at the standardized returns:"
   ]
  },
  {
   "cell_type": "code",
   "execution_count": 5,
   "metadata": {},
   "outputs": [
    {
     "data": {
      "image/png": "[encoded data removed]",
      "text/plain": [
       "<matplotlib.figure.Figure at 0x1114b0750>"
      ]
     },
     "metadata": {},
     "output_type": "display_data"
    }
   ],
   "source": [
    "std_returns = (returns - returns.mean())/returns.std()\n",
    "std_returns.plot()\n",
    "plt.ylabel('Standardized returns')\n",
    "plt.xlabel('Time (months)')\n",
    "plt.legend(loc=2);"
   ]
  },
  {
   "cell_type": "markdown",
   "metadata": {},
   "source": [
    "Ah! So now we see that A and C's standardized returns follow each other exactly, and B has the exact opposite pattern.\n",
    "\n",
    "The key to the second puzzle is that what enters into the correlation computation is the difference between returns and their mean. Let's look at the mean return of each stock:"
   ]
  },
  {
   "cell_type": "code",
   "execution_count": 6,
   "metadata": {},
   "outputs": [
    {
     "data": {
      "text/plain": [
       "A    0.037076\n",
       "B    0.042924\n",
       "C   -0.029590\n",
       "dtype: float64"
      ]
     },
     "execution_count": 6,
     "metadata": {},
     "output_type": "execute_result"
    }
   ],
   "source": [
    "returns.mean()"
   ]
  },
  {
   "cell_type": "markdown",
   "metadata": {},
   "source": [
    "We see that the return of A from $t=0$ to $t=1$ is actually below its average by about $-0.7\\%$, even though it's positive. The return on C is also below its average by the same amount. That's why they move in opposite directions, but are still perfectly correlated."
   ]
  },
  {
   "cell_type": "markdown",
   "metadata": {},
   "source": [
    "### Correlation of prices doesn't make sense\n",
    "\n",
    "So what's with the correlation of prices? Let's remember what we're really doing when we calculate the sample correlation coefficient (e.g. using `prices.corr`). The assumption is that there are two random variables $X$ and $Y$ with an underlying joint probability density function $p(x, y)$. We collect *independent* samples $(x_1, y_1), (x_2, y_2), \\dots, (x_N, y_N)$ from this distribution and then compute the sample correlation coefficient $\\hat{\\rho}$ as follows:\n",
    "\n",
    "\\begin{equation}\n",
    "\\hat{\\rho} = \\frac{\\sum_{i=1}^{N}(x_i - \\bar{x})(y_i - \\bar{y})}{\\sqrt{\\sum_{i=1}^{N}(x_i - \\bar{x})^2}\\sqrt{\\sum_{i=1}^{N}(y_i - \\bar{y})^2}},\n",
    "\\end{equation}\n",
    "\n",
    "where as usual\n",
    "\n",
    "\\begin{equation}\n",
    "\\bar{x} = \\frac{1}{N}\\sum_{i=1}^N x_i, \\qquad\n",
    "\\bar{y} = \\frac{1}{N}\\sum_{i=1}^N y_i.\n",
    "\\end{equation}\n",
    "\n",
    "Under the assumption of independence of samples, it can be shown that $\\mathbb{E}[\\hat{\\rho}] \\to \\rho$ for a sufficiently large sample size $N$.\n",
    "\n",
    "Now let X and Y denote the price of assets A and B, respectively. The sample $(x_i, y_i)$ is the price of A and B at time $t=i$. Is it true that $(x_1, y_1), (x_2, y_2), \\dots, (x_N, y_N)$ are independent samples of some underlying distribution? For the Browninan motion model we've used for stock prices, the answer is a resounding no. If we were to generate many paths and look at the distribution of prices at each point in time, we'll find that they are different. By construction $log(x_t) \\sim \\mathcal{N}((\\mu - \\sigma^2/2)t, \\sigma^2t)$. If this weren't bad enough, each price depends on the previous time step, so samples are not independent. It would then seem that it doesn't make sense to compute correlation on prices."
   ]
  },
  {
   "cell_type": "code",
   "execution_count": null,
   "metadata": {},
   "outputs": [],
   "source": []
  }
 ],
 "metadata": {
  "kernelspec": {
   "display_name": "Python 2",
   "language": "python",
   "name": "python2"
  },
  "language_info": {
   "codemirror_mode": {
    "name": "ipython",
    "version": 2
   },
   "file_extension": ".py",
   "mimetype": "text/x-python",
   "name": "python",
   "nbconvert_exporter": "python",
   "pygments_lexer": "ipython2",
   "version": "2.7.10"
  }
 },
 "nbformat": 4,
 "nbformat_minor": 2
}
